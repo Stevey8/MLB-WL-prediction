{
 "cells": [
  {
   "cell_type": "code",
   "execution_count": 6,
   "metadata": {},
   "outputs": [],
   "source": [
    "import numpy as np\n",
    "import pandas as pd\n",
    "import matplotlib.pyplot as plt\n",
    "from sklearn.model_selection import train_test_split\n",
    "from sklearn.svm import SVC, LinearSVC\n",
    "from sklearn.preprocessing import StandardScaler\n",
    "from sklearn.metrics import classification_report, accuracy_score\n"
   ]
  },
  {
   "cell_type": "code",
   "execution_count": 3,
   "metadata": {},
   "outputs": [],
   "source": [
    "dict_dfs = {}\n",
    "for i in range(1,21):\n",
    "    dict_dfs[i] = pd.read_csv(f\"data_2014_to_2024/metric_avg_game_{i}.csv\", usecols=lambda column: column != 'Unnamed: 0')"
   ]
  },
  {
   "cell_type": "code",
   "execution_count": 4,
   "metadata": {},
   "outputs": [
    {
     "data": {
      "text/plain": [
       "(44132, 61)"
      ]
     },
     "execution_count": 4,
     "metadata": {},
     "output_type": "execute_result"
    }
   ],
   "source": [
    "dict_dfs[13].shape"
   ]
  },
  {
   "cell_type": "code",
   "execution_count": null,
   "metadata": {},
   "outputs": [
    {
     "name": "stdout",
     "output_type": "stream",
     "text": [
      "Accuracy: 0.526792794834032\n"
     ]
    }
   ],
   "source": [
    "# Linear SVM\n",
    "accuracies = []\n",
    "for i in range(13,14):\n",
    "    X = dict_dfs[i].drop(columns = ['home_outcome'])\n",
    "    y = dict_dfs[i]['home_outcome']\n",
    "\n",
    "    X_train, X_test, y_train, y_test = train_test_split(X, y, test_size=0.2, random_state=42)\n",
    "\n",
    "    # Feature scaling (important for SVMs)\n",
    "    scaler = StandardScaler()\n",
    "    X_train = scaler.fit_transform(X_train)\n",
    "    X_test = scaler.transform(X_test)\n",
    "\n",
    "    # Create and train the SVM model with regularization\n",
    "    svm_model = LinearSVC(C=1.0, random_state=42, max_iter = 10000)  # Use C for regularization\n",
    "    svm_model.fit(X_train, y_train)\n",
    "\n",
    "    # Make predictions\n",
    "    y_pred = svm_model.predict(X_test)\n",
    "\n",
    "    # Evaluate the model\n",
    "    # accuracy = accuracy_score(y_test, y_pred)\n",
    "    # accuracies.append(np.round(accuracy,3))\n",
    "    print(\"Accuracy:\", accuracy_score(y_test, y_pred))\n",
    "    # print(\"\\nClassification Report:\\n\", classification_report(y_test, y_pred))\n",
    "    "
   ]
  },
  {
   "cell_type": "code",
   "execution_count": null,
   "metadata": {},
   "outputs": [
    {
     "name": "stdout",
     "output_type": "stream",
     "text": [
      "Accuracy: 0.5279256825648578\n"
     ]
    }
   ],
   "source": [
    "# SVM\n",
    "accuracies = []\n",
    "for i in range(13,14):\n",
    "    X = dict_dfs[i].drop(columns = ['home_outcome'])\n",
    "    y = dict_dfs[i]['home_outcome']\n",
    "\n",
    "    X_train, X_test, y_train, y_test = train_test_split(X, y, test_size=0.2, random_state=42)\n",
    "\n",
    "    # Feature scaling (important for SVMs)\n",
    "    scaler = StandardScaler()\n",
    "    X_train = scaler.fit_transform(X_train)\n",
    "    X_test = scaler.transform(X_test)\n",
    "\n",
    "    # Create and train the SVM model with regularization\n",
    "    svm_model = SVC(C=1.0, kernel='linear', random_state=42)  # Use C for regularization\n",
    "    svm_model.fit(X_train, y_train)\n",
    "\n",
    "    # Make predictions\n",
    "    y_pred = svm_model.predict(X_test)\n",
    "\n",
    "    # Evaluate the model\n",
    "    # accuracy = accuracy_score(y_test, y_pred)\n",
    "    # accuracies.append(np.round(accuracy,3))\n",
    "    print(\"Accuracy:\", accuracy_score(y_test, y_pred))\n",
    "    # print(\"\\nClassification Report:\\n\", classification_report(y_test, y_pred))\n",
    "    "
   ]
  },
  {
   "cell_type": "code",
   "execution_count": null,
   "metadata": {},
   "outputs": [],
   "source": [
    "accuracies = []\n",
    "for i in range(1,21):\n",
    "    X = dict_dfs[i].drop(columns = ['home_outcome'])\n",
    "    y = dict_dfs[i]['home_outcome']\n",
    "\n",
    "    X_train, X_test, y_train, y_test = train_test_split(X, y, test_size=0.2, random_state=42)\n",
    "\n",
    "    # Feature scaling (important for SVMs)\n",
    "    scaler = StandardScaler()\n",
    "    X_train = scaler.fit_transform(X_train)\n",
    "    X_test = scaler.transform(X_test)\n",
    "\n",
    "    # Create and train the SVM model with regularization\n",
    "    svm_model = SVC(C=1.0, kernel='linear', random_state=42)  # Use C for regularization\n",
    "    svm_model.fit(X_train, y_train)\n",
    "\n",
    "    # Make predictions\n",
    "    y_pred = svm_model.predict(X_test)\n",
    "\n",
    "    # Evaluate the model\n",
    "    accuracy = accuracy_score(y_test, y_pred)\n",
    "    accuracies.append(np.round(accuracy,3))\n",
    "    print(\"Accuracy:\", accuracy_score(y_test, y_pred))\n",
    "    # print(\"\\nClassification Report:\\n\", classification_report(y_test, y_pred))\n",
    "    "
   ]
  },
  {
   "cell_type": "code",
   "execution_count": null,
   "metadata": {},
   "outputs": [],
   "source": []
  },
  {
   "cell_type": "code",
   "execution_count": null,
   "metadata": {},
   "outputs": [],
   "source": []
  },
  {
   "cell_type": "markdown",
   "metadata": {},
   "source": [
    "---"
   ]
  },
  {
   "cell_type": "code",
   "execution_count": 4,
   "metadata": {},
   "outputs": [],
   "source": [
    "df_trytrysee = pd.read_csv('data_2014_to_2024/full_training_data_ops_era.csv').dropna()\n",
    "X = df_trytrysee.drop(columns=['Unnamed: 0','y'])\n",
    "y = df_trytrysee['y']"
   ]
  },
  {
   "cell_type": "code",
   "execution_count": 5,
   "metadata": {},
   "outputs": [
    {
     "name": "stdout",
     "output_type": "stream",
     "text": [
      "Accuracy: 0.5133044554455446\n",
      "\n",
      "Classification Report:\n",
      "               precision    recall  f1-score   support\n",
      "\n",
      "           0       0.52      0.50      0.51      1637\n",
      "           1       0.51      0.53      0.52      1595\n",
      "\n",
      "    accuracy                           0.51      3232\n",
      "   macro avg       0.51      0.51      0.51      3232\n",
      "weighted avg       0.51      0.51      0.51      3232\n",
      "\n"
     ]
    }
   ],
   "source": [
    "\n",
    "# Generate a sample dataset with 200 features (replace with your own data)\n",
    "\n",
    "# Split the data into training and testing sets\n",
    "X_train, X_test, y_train, y_test = train_test_split(X, y, test_size=0.2, random_state=42)\n",
    "\n",
    "# Feature scaling (important for SVMs)\n",
    "scaler = StandardScaler()\n",
    "X_train = scaler.fit_transform(X_train)\n",
    "X_test = scaler.transform(X_test)\n",
    "\n",
    "# Create and train the SVM model with regularization\n",
    "svm_model = SVC(C=1.0, kernel='linear', random_state=42)  # Use C for regularization\n",
    "svm_model.fit(X_train, y_train)\n",
    "\n",
    "# Make predictions\n",
    "y_pred = svm_model.predict(X_test)\n",
    "\n",
    "# Evaluate the model\n",
    "print(\"Accuracy:\", accuracy_score(y_test, y_pred))\n",
    "print(\"\\nClassification Report:\\n\", classification_report(y_test, y_pred))\n"
   ]
  },
  {
   "cell_type": "code",
   "execution_count": null,
   "metadata": {},
   "outputs": [],
   "source": []
  }
 ],
 "metadata": {
  "kernelspec": {
   "display_name": "cpsc330",
   "language": "python",
   "name": "python3"
  },
  "language_info": {
   "codemirror_mode": {
    "name": "ipython",
    "version": 3
   },
   "file_extension": ".py",
   "mimetype": "text/x-python",
   "name": "python",
   "nbconvert_exporter": "python",
   "pygments_lexer": "ipython3",
   "version": "3.10.0"
  }
 },
 "nbformat": 4,
 "nbformat_minor": 2
}
