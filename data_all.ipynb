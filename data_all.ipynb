{
 "cells": [
  {
   "cell_type": "code",
   "execution_count": 1,
   "metadata": {},
   "outputs": [],
   "source": [
    "import pandas as pd \n",
    "import numpy as np \n",
    "import matplotlib.pyplot as plt \n",
    "import seaborn as sns\n",
    "\n",
    "import requests\n",
    "import json\n",
    "\n",
    "import pybaseball\n",
    "from pybaseball import statcast\n",
    "pybaseball.cache.enable()\n",
    "\n",
    "import warnings\n",
    "warnings.simplefilter(action='ignore', category=FutureWarning)\n"
   ]
  },
  {
   "cell_type": "code",
   "execution_count": 2,
   "metadata": {},
   "outputs": [],
   "source": [
    "# 1. get pitch level data from statcast (call this df)\n",
    "\n",
    "def get_pitch_level_data(season):\n",
    "    '''\n",
    "    get the pitch level data from statcast\n",
    "    *only regular season data*\n",
    "    '''\n",
    "    date = {\n",
    "        2014:(\"2014-03-22\",\"2014-09-28\"),\n",
    "        2015:(\"2015-04-05\",\"2015-10-04\"),\n",
    "        2016:(\"2016-04-03\",\"2016-10-02\"),\n",
    "        2017:(\"2017-04-02\",\"2017-10-01\"),\n",
    "        2018:(\"2018-03-29\",\"2018-09-30\"),\n",
    "        2019:(\"2019-03-20\",\"2019-09-29\"),\n",
    "        2020:(\"2020-07-23\",\"2022-09-27\"),\n",
    "        2021:(\"2021-04-01\",\"2021-10-03\"),\n",
    "        2022:(\"2022-04-07\",\"2022-10-05\"),\n",
    "        2023:(\"2023-03-30\",\"2023-10-01\"),\n",
    "        2024:(\"2024-03-20\",\"2024-09-29\"),\n",
    "    }\n",
    "    df = statcast(start_dt=date[season][0],end_dt=date[season][1]).reset_index().sort_index(ascending=False).reset_index(drop=True)\n",
    "    return df\n",
    "\n",
    "# ---------------------------------------------------------------------------------------------------------------------------------\n",
    "\n",
    "# 2. for each df (of a season), create a dataset that contains basic matchup information of the season (without player stats)\n",
    "\n",
    "def get_away_batting_order(group):\n",
    "    away_batters = group.loc[group['inning_topbot'] == 'Top', 'batter'].unique()[:9]\n",
    "    away_b_dict = {f'away_b{i+1}':away_batters[i] for i in range(9)}\n",
    "    return pd.Series(away_b_dict)\n",
    "\n",
    "def get_home_batting_order(group):\n",
    "    home_batters = group.loc[group['inning_topbot'] == 'Bot', 'batter'].unique()[:9]\n",
    "    home_b_dict = {f'home_b{i+1}':home_batters[i] for i in range(9)}\n",
    "    return pd.Series(home_b_dict)\n",
    "\n",
    "def get_game_info(df):\n",
    "    '''\n",
    "    df: a raw statcast dataset\n",
    "    '''\n",
    "    # list out what kind of data we need for each game\n",
    "    cols = ['home_result','game_pk','date','away_team','home_team','post_away_score','post_home_score','away_starting_pitcher','home_starting_pitcher']\n",
    "\n",
    "    # add batters 1-9 for both away and home\n",
    "    for i in ['away','home']:\n",
    "        for j in range(1,10):\n",
    "            cols.append(f'{i}_b{j}')\n",
    "\n",
    "    data = df.groupby('game_pk',sort=False).apply(lambda group: pd.Series({\n",
    "        'home_result': None,\n",
    "        'date': group['game_date'].iloc[0],  # only one corresponding value\n",
    "        'away_team': group['away_team'].iloc[0],  # only one corresponding value\n",
    "        'home_team': group['home_team'].iloc[0],  # only one corresponding value\n",
    "        'away_final_score': group['post_away_score'].iloc[-1],\n",
    "        'home_final_score': group['post_home_score'].iloc[-1],\n",
    "        'away_starting_pitcher': group.loc[(group['inning'] == 1) & (group['inning_topbot'] == 'Bot'), 'pitcher'].iloc[0],\n",
    "        'home_starting_pitcher': group.loc[(group['inning'] == 1) & (group['inning_topbot'] == 'Top'), 'pitcher'].iloc[0],\n",
    "    })).sort_values(by='date', ascending=True).reset_index()\n",
    "    \n",
    "    data['home_result'] = np.where(data['home_final_score'] > data['away_final_score'], 'W', 'L')\n",
    "\n",
    "    away_batters = df.groupby('game_pk',sort=False).apply(get_away_batting_order)\n",
    "    home_batters = df.groupby('game_pk',sort=False).apply(get_home_batting_order)\n",
    "\n",
    "    data = data.merge(away_batters, on='game_pk').merge(home_batters, on='game_pk')\n",
    "    \n",
    "    return data\n",
    "\n",
    "# ---------------------------------------------------------------------------------------------------------------------------------\n",
    "\n",
    "# 3. get batting stats\n",
    "\n",
    "def extract_batting_events(group):\n",
    "    ab_events = ['single', 'double', 'triple', 'home_run', 'strikeout', 'field_out', \n",
    "                 'grounded_into_double_play', 'double_play', 'triple_play', 'strikeout_double_play',\n",
    "                 'fielders_choice', 'fielders_choice_out', 'field_error', 'force_out']\n",
    "    \n",
    "    ab_count = group[group['events'].isin(ab_events)].shape[0]\n",
    "    bb_count = group[group['events'] == 'walk'].shape[0]\n",
    "    hbp_count = group[group['events'] == 'hit_by_pitch'].shape[0]\n",
    "    single_count = group[group['events'] == 'single'].shape[0]\n",
    "    double_count = group[group['events'] == 'double'].shape[0]\n",
    "    triple_count = group[group['events'] == 'triple'].shape[0]\n",
    "    home_run_count = group[group['events'] == 'home_run'].shape[0]\n",
    "    sac_fly_count = group[group['events'].isin(['sac_fly', 'sac_fly_double_play'])].shape[0]\n",
    "\n",
    "    return pd.Series({\n",
    "        'ab': ab_count,\n",
    "        'bb': bb_count,\n",
    "        'hbp': hbp_count,\n",
    "        'single': single_count,\n",
    "        'double': double_count,\n",
    "        'triple': triple_count,\n",
    "        'hr': home_run_count,\n",
    "        'sf': sac_fly_count\n",
    "    })\n",
    "\n",
    "def add_batting_order(df):\n",
    "    df.insert(2,'batting_order',df.index%9+1)\n",
    "    return df\n",
    "\n",
    "def get_batting_stats(df):\n",
    "    '''\n",
    "    df: a raw statcast dataset\n",
    "    '''\n",
    "\n",
    "    # get game info first so its easier to sort batting stats according to game timeline \n",
    "    game = get_game_info(df)\n",
    "    game_away = game[['game_pk','away_team']].rename(columns = {'away_team':'team'})\n",
    "    game_home = game[['game_pk','home_team']].rename(columns = {'home_team':'team'})\n",
    "    game_away.insert(0,'game_sequence',game_away.index+1)\n",
    "    game_home.insert(0,'game_sequence',game_home.index+1)\n",
    "    game_away['is_home'] = False\n",
    "    game_home['is_home'] = True\n",
    "\n",
    "    # batting stats \n",
    "    batting_away = (df[df['inning_topbot']=='Top']\n",
    "                    .groupby(['game_pk','batter'],sort=False)\n",
    "                    .apply(extract_batting_events))\n",
    "    batting_home = (df[df['inning_topbot']=='Bot']\n",
    "                    .groupby(['game_pk','batter'],sort=False)\n",
    "                    .apply(extract_batting_events))\n",
    "    \n",
    "    batting_away_lineup = batting_away.groupby('game_pk').head(9).reset_index()\n",
    "    batting_home_lineup = batting_home.groupby('game_pk').head(9).reset_index()\n",
    "\n",
    "    batting_away_lineup_with_order = add_batting_order(batting_away_lineup)\n",
    "    batting_home_lineup_with_order = add_batting_order(batting_home_lineup)\n",
    "\n",
    "    data_away = pd.merge(game_away,batting_away_lineup_with_order,on='game_pk')\n",
    "    data_home = pd.merge(game_home,batting_home_lineup_with_order,on='game_pk')\n",
    "\n",
    "    data = (pd.concat([data_away,data_home],axis=0)\n",
    "            .sort_values(by=['game_sequence','is_home'])\n",
    "            .reset_index(drop=True))\n",
    "    \n",
    "    return data\n",
    "\n",
    "# ---------------------------------------------------------------------------------------------------------------------------------\n",
    "\n",
    "# 4. get pitching data \n",
    "# convert innings pitched (string) into float\n",
    "def convert_ip_to_float(ip):\n",
    "    whole, fraction = ip.split('.')\n",
    "    if fraction == '1':\n",
    "        return float(whole) + 0.33\n",
    "    elif fraction == '2':\n",
    "        return float(whole) + 0.67\n",
    "    else:\n",
    "        return float(ip)\n",
    "    \n",
    "def detect_missing(data):\n",
    "    if isinstance(data, str):\n",
    "        if \"-\" in data:\n",
    "            return True\n",
    "    return False\n",
    "\n",
    "# get data via the MLB Stats API\n",
    "def extract_p_stats_from_api(game_pk, pitcher_id, is_home = True):\n",
    "    # URL for the MLB Stats API to get the boxscore of the game\n",
    "    url = f'https://statsapi.mlb.com/api/v1/game/{game_pk}/boxscore'\n",
    "\n",
    "    # Make a request to the API\n",
    "    response = requests.get(url)\n",
    "\n",
    "    if is_home:\n",
    "        home_away = \"home\"\n",
    "    else: \n",
    "        home_away = \"away\"\n",
    "\n",
    "    if response.status_code == 200:\n",
    "        # Load the JSON data\n",
    "        boxscore_data = response.json()\n",
    "        pitchers = boxscore_data['teams'][home_away]['players']\n",
    "        for player_id, player_data in pitchers.items():\n",
    "            if player_id == f'ID{pitcher_id}' and (\n",
    "                player_data['position']['code'] == '1'  # Code '1' corresponds to pitchers\n",
    "                or \n",
    "                player_data['position']['code'] == '10'  # for Shohei Ohtani :) also his id is 660271\n",
    "            ):\n",
    "                name = player_data['person']['fullName']\n",
    "                stats = player_data['stats']['pitching']\n",
    "                if len(stats)!=0:\n",
    "                    n_pitches = stats[\"pitchesThrown\"]\n",
    "                    ip = convert_ip_to_float(stats[\"inningsPitched\"])\n",
    "                    er = float(stats[\"earnedRuns\"])\n",
    "                    k = stats[\"strikeOuts\"]\n",
    "                    bb = stats[\"baseOnBalls\"]\n",
    "                    h = stats[\"hits\"]\n",
    "                    return np, ip, er, k, bb, h\n",
    "                else:\n",
    "                    return 0, 0, 0, 0, 0, 0\n",
    "    else:\n",
    "        return 0, 0, 0, 0, 0, 0\n",
    "    \n",
    "\n",
    "def get_pitching_stats(df): \n",
    "    '''\n",
    "    only get the stats from starting pitchers \n",
    "    not considering bullpen\n",
    "    '''\n",
    "\n",
    "    # get game info first so its easier to sort batting stats according to game timeline \n",
    "    game = get_game_info(df)\n",
    "    game_away = game[['game_pk','away_team','away_starting_pitcher']].rename(columns = {'away_team':'team','away_starting_pitcher':'starting_pitcher'})\n",
    "    game_home = game[['game_pk','home_team','home_starting_pitcher']].rename(columns = {'home_team':'team','home_starting_pitcher':'starting_pitcher'})\n",
    "    game_away.insert(0,'game_sequence',game_away.index+1)\n",
    "    game_home.insert(0,'game_sequence',game_home.index+1)\n",
    "    game_away['is_home'] = False\n",
    "    game_home['is_home'] = True\n",
    "\n",
    "    # get away starting pitcher data\n",
    "    pitching_away_stats = pd.DataFrame(columns=['game_pk', 'starting_pitcher', 'np', 'ip', 'er', 'k', 'bb', 'h'])\n",
    "    for idx, row in game.iterrows():\n",
    "        game_pk = row['game_pk']\n",
    "        starting_pitcher = row['starting_pitcher']\n",
    "        np, ip, er, k, bb, h = extract_p_stats_from_api(game_pk,starting_pitcher, is_home=False)\n",
    "        new_row = pd.DataFrame([[game_pk,starting_pitcher,np,ip,er,k,bb,h]], columns=pitching_away_stats.columns)\n",
    "        pitching_away_stats = pd.concat([pitching_away_stats, new_row], ignore_index=True)\n",
    "\n",
    "    # get home starting pitcher data\n",
    "    pitching_home_stats = pd.DataFrame(columns=['game_pk', 'starting_pitcher', 'np', 'ip', 'er', 'k', 'bb', 'h'])\n",
    "    for idx, row in game.iterrows():\n",
    "        game_pk = row['game_pk']\n",
    "        starting_pitcher = row['starting_pitcher']\n",
    "        np, ip, er, k, bb, h = extract_p_stats_from_api(game_pk,starting_pitcher, is_home=True)\n",
    "        new_row = pd.DataFrame([[game_pk,starting_pitcher,np,ip,er,k,bb,h]], columns=pitching_home_stats.columns)\n",
    "        pitching_home_stats = pd.concat([pitching_home_stats, new_row], ignore_index=True)\n",
    "\n",
    "    data_away = pd.merge(game_away,pitching_away_stats,on='game_pk')\n",
    "    data_home = pd.merge(game_home,pitching_home_stats,on='game_pk')\n",
    "\n",
    "    data = (pd.concat([data_away,data_home],axis=0)\n",
    "            .sort_values(by=['game_sequence','is_home'])\n",
    "            .reset_index(drop=True))\n",
    "    \n",
    "    return data\n",
    "    \n",
    "# ---------------------------------------------------------------------------------------------------------------------------------\n",
    "\n",
    "# 5. generate csv files \n",
    "def game_info_to_csv(dfs):\n",
    "    '''\n",
    "    dfs: a dictionary with key = df_{season} and value = statcast raw data\n",
    "    get the basic game information with get_game_info\n",
    "    and generate a csv file for each dataframe\n",
    "    '''\n",
    "    for key, value in dfs.items():\n",
    "        data = get_game_info(value)\n",
    "        data.to_csv(f'data_2014_to_2024/{key}_game_info.csv')\n",
    "\n",
    "def batting_stats_to_csv(dfs):\n",
    "    for key, value in dfs.items():\n",
    "        data = get_batting_stats(value)\n",
    "        data.to_csv(f'data_2014_to_2024/{key}_batting_stats.csv')\n",
    "\n",
    "def pitching_stats_to_csv(dfs):\n",
    "    for key, value in dfs.items():\n",
    "        data = get_pitching_stats(value)\n",
    "        data.to_csv(f'data_2014_to_2024/{key}_pitching_stats.csv')\n"
   ]
  },
  {
   "cell_type": "code",
   "execution_count": 3,
   "metadata": {},
   "outputs": [
    {
     "name": "stdout",
     "output_type": "stream",
     "text": [
      "This is a large query, it may take a moment to complete\n"
     ]
    },
    {
     "name": "stderr",
     "output_type": "stream",
     "text": [
      "100%|██████████| 191/191 [00:37<00:00,  5.15it/s]\n"
     ]
    },
    {
     "name": "stdout",
     "output_type": "stream",
     "text": [
      "game count of season 2014: 2533\n",
      "This is a large query, it may take a moment to complete\n"
     ]
    },
    {
     "name": "stderr",
     "output_type": "stream",
     "text": [
      "100%|██████████| 183/183 [00:35<00:00,  5.13it/s]\n"
     ]
    },
    {
     "name": "stdout",
     "output_type": "stream",
     "text": [
      "game count of season 2015: 2429\n",
      "This is a large query, it may take a moment to complete\n"
     ]
    },
    {
     "name": "stderr",
     "output_type": "stream",
     "text": [
      "100%|██████████| 183/183 [00:36<00:00,  5.06it/s]\n"
     ]
    },
    {
     "name": "stdout",
     "output_type": "stream",
     "text": [
      "game count of season 2016: 2429\n",
      "This is a large query, it may take a moment to complete\n"
     ]
    },
    {
     "name": "stderr",
     "output_type": "stream",
     "text": [
      "100%|██████████| 183/183 [00:36<00:00,  5.07it/s]\n"
     ]
    },
    {
     "name": "stdout",
     "output_type": "stream",
     "text": [
      "game count of season 2017: 2430\n",
      "This is a large query, it may take a moment to complete\n"
     ]
    },
    {
     "name": "stderr",
     "output_type": "stream",
     "text": [
      "100%|██████████| 186/186 [00:36<00:00,  5.06it/s]\n"
     ]
    },
    {
     "name": "stdout",
     "output_type": "stream",
     "text": [
      "game count of season 2018: 2429\n",
      "This is a large query, it may take a moment to complete\n"
     ]
    },
    {
     "name": "stderr",
     "output_type": "stream",
     "text": [
      "100%|██████████| 194/194 [00:39<00:00,  4.97it/s]\n"
     ]
    },
    {
     "name": "stdout",
     "output_type": "stream",
     "text": [
      "game count of season 2019: 2527\n",
      "This is a large query, it may take a moment to complete\n"
     ]
    },
    {
     "name": "stderr",
     "output_type": "stream",
     "text": [
      "100%|██████████| 186/186 [00:42<00:00,  4.41it/s]\n"
     ]
    },
    {
     "name": "stdout",
     "output_type": "stream",
     "text": [
      "game count of season 2021: 2429\n",
      "This is a large query, it may take a moment to complete\n"
     ]
    },
    {
     "name": "stderr",
     "output_type": "stream",
     "text": [
      "100%|██████████| 182/182 [00:44<00:00,  4.11it/s]\n"
     ]
    },
    {
     "name": "stdout",
     "output_type": "stream",
     "text": [
      "game count of season 2022: 2430\n",
      "This is a large query, it may take a moment to complete\n"
     ]
    },
    {
     "name": "stderr",
     "output_type": "stream",
     "text": [
      "100%|██████████| 186/186 [00:46<00:00,  3.99it/s]\n"
     ]
    },
    {
     "name": "stdout",
     "output_type": "stream",
     "text": [
      "game count of season 2023: 2430\n",
      "This is a large query, it may take a moment to complete\n"
     ]
    },
    {
     "name": "stderr",
     "output_type": "stream",
     "text": [
      "100%|██████████| 194/194 [00:48<00:00,  3.98it/s]\n"
     ]
    },
    {
     "name": "stdout",
     "output_type": "stream",
     "text": [
      "game count of season 2024: 2515\n",
      "CPU times: user 6min 48s, sys: 10min 5s, total: 16min 54s\n",
      "Wall time: 9min 53s\n"
     ]
    }
   ],
   "source": [
    "%%time\n",
    "# get pitch level data from season 2014 to 2024\n",
    "dfs = {}\n",
    "seasons = np.arange(2014,2025)\n",
    "for season in seasons:\n",
    "    if season == 2020: \n",
    "        continue\n",
    "    else:\n",
    "        this_df = get_pitch_level_data(season)\n",
    "        dfs[f'df_{season}'] = this_df\n",
    "        game_count = this_df['game_pk'].nunique()\n",
    "        print(f'game count of season {season}: {game_count}')"
   ]
  },
  {
   "cell_type": "code",
   "execution_count": 4,
   "metadata": {},
   "outputs": [
    {
     "name": "stderr",
     "output_type": "stream",
     "text": [
      "/var/folders/4f/yqk707nn61d0n9l9qmlg7f4w0000gn/T/ipykernel_92129/1761772045.py:50: DeprecationWarning: DataFrameGroupBy.apply operated on the grouping columns. This behavior is deprecated, and in a future version of pandas the grouping columns will be excluded from the operation. Either pass `include_groups=False` to exclude the groupings or explicitly select the grouping columns after groupby to silence this warning.\n",
      "  data = df.groupby('game_pk',sort=False).apply(lambda group: pd.Series({\n",
      "/var/folders/4f/yqk707nn61d0n9l9qmlg7f4w0000gn/T/ipykernel_92129/1761772045.py:63: DeprecationWarning: DataFrameGroupBy.apply operated on the grouping columns. This behavior is deprecated, and in a future version of pandas the grouping columns will be excluded from the operation. Either pass `include_groups=False` to exclude the groupings or explicitly select the grouping columns after groupby to silence this warning.\n",
      "  away_batters = df.groupby('game_pk',sort=False).apply(get_away_batting_order)\n",
      "/var/folders/4f/yqk707nn61d0n9l9qmlg7f4w0000gn/T/ipykernel_92129/1761772045.py:64: DeprecationWarning: DataFrameGroupBy.apply operated on the grouping columns. This behavior is deprecated, and in a future version of pandas the grouping columns will be excluded from the operation. Either pass `include_groups=False` to exclude the groupings or explicitly select the grouping columns after groupby to silence this warning.\n",
      "  home_batters = df.groupby('game_pk',sort=False).apply(get_home_batting_order)\n",
      "/var/folders/4f/yqk707nn61d0n9l9qmlg7f4w0000gn/T/ipykernel_92129/1761772045.py:50: DeprecationWarning: DataFrameGroupBy.apply operated on the grouping columns. This behavior is deprecated, and in a future version of pandas the grouping columns will be excluded from the operation. Either pass `include_groups=False` to exclude the groupings or explicitly select the grouping columns after groupby to silence this warning.\n",
      "  data = df.groupby('game_pk',sort=False).apply(lambda group: pd.Series({\n",
      "/var/folders/4f/yqk707nn61d0n9l9qmlg7f4w0000gn/T/ipykernel_92129/1761772045.py:63: DeprecationWarning: DataFrameGroupBy.apply operated on the grouping columns. This behavior is deprecated, and in a future version of pandas the grouping columns will be excluded from the operation. Either pass `include_groups=False` to exclude the groupings or explicitly select the grouping columns after groupby to silence this warning.\n",
      "  away_batters = df.groupby('game_pk',sort=False).apply(get_away_batting_order)\n",
      "/var/folders/4f/yqk707nn61d0n9l9qmlg7f4w0000gn/T/ipykernel_92129/1761772045.py:64: DeprecationWarning: DataFrameGroupBy.apply operated on the grouping columns. This behavior is deprecated, and in a future version of pandas the grouping columns will be excluded from the operation. Either pass `include_groups=False` to exclude the groupings or explicitly select the grouping columns after groupby to silence this warning.\n",
      "  home_batters = df.groupby('game_pk',sort=False).apply(get_home_batting_order)\n",
      "/var/folders/4f/yqk707nn61d0n9l9qmlg7f4w0000gn/T/ipykernel_92129/1761772045.py:50: DeprecationWarning: DataFrameGroupBy.apply operated on the grouping columns. This behavior is deprecated, and in a future version of pandas the grouping columns will be excluded from the operation. Either pass `include_groups=False` to exclude the groupings or explicitly select the grouping columns after groupby to silence this warning.\n",
      "  data = df.groupby('game_pk',sort=False).apply(lambda group: pd.Series({\n",
      "/var/folders/4f/yqk707nn61d0n9l9qmlg7f4w0000gn/T/ipykernel_92129/1761772045.py:63: DeprecationWarning: DataFrameGroupBy.apply operated on the grouping columns. This behavior is deprecated, and in a future version of pandas the grouping columns will be excluded from the operation. Either pass `include_groups=False` to exclude the groupings or explicitly select the grouping columns after groupby to silence this warning.\n",
      "  away_batters = df.groupby('game_pk',sort=False).apply(get_away_batting_order)\n",
      "/var/folders/4f/yqk707nn61d0n9l9qmlg7f4w0000gn/T/ipykernel_92129/1761772045.py:64: DeprecationWarning: DataFrameGroupBy.apply operated on the grouping columns. This behavior is deprecated, and in a future version of pandas the grouping columns will be excluded from the operation. Either pass `include_groups=False` to exclude the groupings or explicitly select the grouping columns after groupby to silence this warning.\n",
      "  home_batters = df.groupby('game_pk',sort=False).apply(get_home_batting_order)\n",
      "/var/folders/4f/yqk707nn61d0n9l9qmlg7f4w0000gn/T/ipykernel_92129/1761772045.py:50: DeprecationWarning: DataFrameGroupBy.apply operated on the grouping columns. This behavior is deprecated, and in a future version of pandas the grouping columns will be excluded from the operation. Either pass `include_groups=False` to exclude the groupings or explicitly select the grouping columns after groupby to silence this warning.\n",
      "  data = df.groupby('game_pk',sort=False).apply(lambda group: pd.Series({\n",
      "/var/folders/4f/yqk707nn61d0n9l9qmlg7f4w0000gn/T/ipykernel_92129/1761772045.py:63: DeprecationWarning: DataFrameGroupBy.apply operated on the grouping columns. This behavior is deprecated, and in a future version of pandas the grouping columns will be excluded from the operation. Either pass `include_groups=False` to exclude the groupings or explicitly select the grouping columns after groupby to silence this warning.\n",
      "  away_batters = df.groupby('game_pk',sort=False).apply(get_away_batting_order)\n",
      "/var/folders/4f/yqk707nn61d0n9l9qmlg7f4w0000gn/T/ipykernel_92129/1761772045.py:64: DeprecationWarning: DataFrameGroupBy.apply operated on the grouping columns. This behavior is deprecated, and in a future version of pandas the grouping columns will be excluded from the operation. Either pass `include_groups=False` to exclude the groupings or explicitly select the grouping columns after groupby to silence this warning.\n",
      "  home_batters = df.groupby('game_pk',sort=False).apply(get_home_batting_order)\n",
      "/var/folders/4f/yqk707nn61d0n9l9qmlg7f4w0000gn/T/ipykernel_92129/1761772045.py:50: DeprecationWarning: DataFrameGroupBy.apply operated on the grouping columns. This behavior is deprecated, and in a future version of pandas the grouping columns will be excluded from the operation. Either pass `include_groups=False` to exclude the groupings or explicitly select the grouping columns after groupby to silence this warning.\n",
      "  data = df.groupby('game_pk',sort=False).apply(lambda group: pd.Series({\n",
      "/var/folders/4f/yqk707nn61d0n9l9qmlg7f4w0000gn/T/ipykernel_92129/1761772045.py:63: DeprecationWarning: DataFrameGroupBy.apply operated on the grouping columns. This behavior is deprecated, and in a future version of pandas the grouping columns will be excluded from the operation. Either pass `include_groups=False` to exclude the groupings or explicitly select the grouping columns after groupby to silence this warning.\n",
      "  away_batters = df.groupby('game_pk',sort=False).apply(get_away_batting_order)\n",
      "/var/folders/4f/yqk707nn61d0n9l9qmlg7f4w0000gn/T/ipykernel_92129/1761772045.py:64: DeprecationWarning: DataFrameGroupBy.apply operated on the grouping columns. This behavior is deprecated, and in a future version of pandas the grouping columns will be excluded from the operation. Either pass `include_groups=False` to exclude the groupings or explicitly select the grouping columns after groupby to silence this warning.\n",
      "  home_batters = df.groupby('game_pk',sort=False).apply(get_home_batting_order)\n",
      "/var/folders/4f/yqk707nn61d0n9l9qmlg7f4w0000gn/T/ipykernel_92129/1761772045.py:50: DeprecationWarning: DataFrameGroupBy.apply operated on the grouping columns. This behavior is deprecated, and in a future version of pandas the grouping columns will be excluded from the operation. Either pass `include_groups=False` to exclude the groupings or explicitly select the grouping columns after groupby to silence this warning.\n",
      "  data = df.groupby('game_pk',sort=False).apply(lambda group: pd.Series({\n",
      "/var/folders/4f/yqk707nn61d0n9l9qmlg7f4w0000gn/T/ipykernel_92129/1761772045.py:63: DeprecationWarning: DataFrameGroupBy.apply operated on the grouping columns. This behavior is deprecated, and in a future version of pandas the grouping columns will be excluded from the operation. Either pass `include_groups=False` to exclude the groupings or explicitly select the grouping columns after groupby to silence this warning.\n",
      "  away_batters = df.groupby('game_pk',sort=False).apply(get_away_batting_order)\n",
      "/var/folders/4f/yqk707nn61d0n9l9qmlg7f4w0000gn/T/ipykernel_92129/1761772045.py:64: DeprecationWarning: DataFrameGroupBy.apply operated on the grouping columns. This behavior is deprecated, and in a future version of pandas the grouping columns will be excluded from the operation. Either pass `include_groups=False` to exclude the groupings or explicitly select the grouping columns after groupby to silence this warning.\n",
      "  home_batters = df.groupby('game_pk',sort=False).apply(get_home_batting_order)\n",
      "/var/folders/4f/yqk707nn61d0n9l9qmlg7f4w0000gn/T/ipykernel_92129/1761772045.py:50: DeprecationWarning: DataFrameGroupBy.apply operated on the grouping columns. This behavior is deprecated, and in a future version of pandas the grouping columns will be excluded from the operation. Either pass `include_groups=False` to exclude the groupings or explicitly select the grouping columns after groupby to silence this warning.\n",
      "  data = df.groupby('game_pk',sort=False).apply(lambda group: pd.Series({\n",
      "/var/folders/4f/yqk707nn61d0n9l9qmlg7f4w0000gn/T/ipykernel_92129/1761772045.py:63: DeprecationWarning: DataFrameGroupBy.apply operated on the grouping columns. This behavior is deprecated, and in a future version of pandas the grouping columns will be excluded from the operation. Either pass `include_groups=False` to exclude the groupings or explicitly select the grouping columns after groupby to silence this warning.\n",
      "  away_batters = df.groupby('game_pk',sort=False).apply(get_away_batting_order)\n",
      "/var/folders/4f/yqk707nn61d0n9l9qmlg7f4w0000gn/T/ipykernel_92129/1761772045.py:64: DeprecationWarning: DataFrameGroupBy.apply operated on the grouping columns. This behavior is deprecated, and in a future version of pandas the grouping columns will be excluded from the operation. Either pass `include_groups=False` to exclude the groupings or explicitly select the grouping columns after groupby to silence this warning.\n",
      "  home_batters = df.groupby('game_pk',sort=False).apply(get_home_batting_order)\n",
      "/var/folders/4f/yqk707nn61d0n9l9qmlg7f4w0000gn/T/ipykernel_92129/1761772045.py:50: DeprecationWarning: DataFrameGroupBy.apply operated on the grouping columns. This behavior is deprecated, and in a future version of pandas the grouping columns will be excluded from the operation. Either pass `include_groups=False` to exclude the groupings or explicitly select the grouping columns after groupby to silence this warning.\n",
      "  data = df.groupby('game_pk',sort=False).apply(lambda group: pd.Series({\n",
      "/var/folders/4f/yqk707nn61d0n9l9qmlg7f4w0000gn/T/ipykernel_92129/1761772045.py:63: DeprecationWarning: DataFrameGroupBy.apply operated on the grouping columns. This behavior is deprecated, and in a future version of pandas the grouping columns will be excluded from the operation. Either pass `include_groups=False` to exclude the groupings or explicitly select the grouping columns after groupby to silence this warning.\n",
      "  away_batters = df.groupby('game_pk',sort=False).apply(get_away_batting_order)\n",
      "/var/folders/4f/yqk707nn61d0n9l9qmlg7f4w0000gn/T/ipykernel_92129/1761772045.py:64: DeprecationWarning: DataFrameGroupBy.apply operated on the grouping columns. This behavior is deprecated, and in a future version of pandas the grouping columns will be excluded from the operation. Either pass `include_groups=False` to exclude the groupings or explicitly select the grouping columns after groupby to silence this warning.\n",
      "  home_batters = df.groupby('game_pk',sort=False).apply(get_home_batting_order)\n",
      "/var/folders/4f/yqk707nn61d0n9l9qmlg7f4w0000gn/T/ipykernel_92129/1761772045.py:50: DeprecationWarning: DataFrameGroupBy.apply operated on the grouping columns. This behavior is deprecated, and in a future version of pandas the grouping columns will be excluded from the operation. Either pass `include_groups=False` to exclude the groupings or explicitly select the grouping columns after groupby to silence this warning.\n",
      "  data = df.groupby('game_pk',sort=False).apply(lambda group: pd.Series({\n",
      "/var/folders/4f/yqk707nn61d0n9l9qmlg7f4w0000gn/T/ipykernel_92129/1761772045.py:63: DeprecationWarning: DataFrameGroupBy.apply operated on the grouping columns. This behavior is deprecated, and in a future version of pandas the grouping columns will be excluded from the operation. Either pass `include_groups=False` to exclude the groupings or explicitly select the grouping columns after groupby to silence this warning.\n",
      "  away_batters = df.groupby('game_pk',sort=False).apply(get_away_batting_order)\n",
      "/var/folders/4f/yqk707nn61d0n9l9qmlg7f4w0000gn/T/ipykernel_92129/1761772045.py:64: DeprecationWarning: DataFrameGroupBy.apply operated on the grouping columns. This behavior is deprecated, and in a future version of pandas the grouping columns will be excluded from the operation. Either pass `include_groups=False` to exclude the groupings or explicitly select the grouping columns after groupby to silence this warning.\n",
      "  home_batters = df.groupby('game_pk',sort=False).apply(get_home_batting_order)\n",
      "/var/folders/4f/yqk707nn61d0n9l9qmlg7f4w0000gn/T/ipykernel_92129/1761772045.py:50: DeprecationWarning: DataFrameGroupBy.apply operated on the grouping columns. This behavior is deprecated, and in a future version of pandas the grouping columns will be excluded from the operation. Either pass `include_groups=False` to exclude the groupings or explicitly select the grouping columns after groupby to silence this warning.\n",
      "  data = df.groupby('game_pk',sort=False).apply(lambda group: pd.Series({\n",
      "/var/folders/4f/yqk707nn61d0n9l9qmlg7f4w0000gn/T/ipykernel_92129/1761772045.py:63: DeprecationWarning: DataFrameGroupBy.apply operated on the grouping columns. This behavior is deprecated, and in a future version of pandas the grouping columns will be excluded from the operation. Either pass `include_groups=False` to exclude the groupings or explicitly select the grouping columns after groupby to silence this warning.\n",
      "  away_batters = df.groupby('game_pk',sort=False).apply(get_away_batting_order)\n"
     ]
    },
    {
     "name": "stdout",
     "output_type": "stream",
     "text": [
      "CPU times: user 1min 7s, sys: 15.1 s, total: 1min 22s\n",
      "Wall time: 1min 39s\n"
     ]
    },
    {
     "name": "stderr",
     "output_type": "stream",
     "text": [
      "/var/folders/4f/yqk707nn61d0n9l9qmlg7f4w0000gn/T/ipykernel_92129/1761772045.py:64: DeprecationWarning: DataFrameGroupBy.apply operated on the grouping columns. This behavior is deprecated, and in a future version of pandas the grouping columns will be excluded from the operation. Either pass `include_groups=False` to exclude the groupings or explicitly select the grouping columns after groupby to silence this warning.\n",
      "  home_batters = df.groupby('game_pk',sort=False).apply(get_home_batting_order)\n"
     ]
    }
   ],
   "source": [
    "%%time\n",
    "# generate csv files of game info\n",
    "game_info_to_csv(dfs)"
   ]
  },
  {
   "cell_type": "code",
   "execution_count": 5,
   "metadata": {},
   "outputs": [
    {
     "name": "stderr",
     "output_type": "stream",
     "text": [
      "/var/folders/4f/yqk707nn61d0n9l9qmlg7f4w0000gn/T/ipykernel_92129/1761772045.py:50: DeprecationWarning: DataFrameGroupBy.apply operated on the grouping columns. This behavior is deprecated, and in a future version of pandas the grouping columns will be excluded from the operation. Either pass `include_groups=False` to exclude the groupings or explicitly select the grouping columns after groupby to silence this warning.\n",
      "  data = df.groupby('game_pk',sort=False).apply(lambda group: pd.Series({\n",
      "/var/folders/4f/yqk707nn61d0n9l9qmlg7f4w0000gn/T/ipykernel_92129/1761772045.py:63: DeprecationWarning: DataFrameGroupBy.apply operated on the grouping columns. This behavior is deprecated, and in a future version of pandas the grouping columns will be excluded from the operation. Either pass `include_groups=False` to exclude the groupings or explicitly select the grouping columns after groupby to silence this warning.\n",
      "  away_batters = df.groupby('game_pk',sort=False).apply(get_away_batting_order)\n",
      "/var/folders/4f/yqk707nn61d0n9l9qmlg7f4w0000gn/T/ipykernel_92129/1761772045.py:64: DeprecationWarning: DataFrameGroupBy.apply operated on the grouping columns. This behavior is deprecated, and in a future version of pandas the grouping columns will be excluded from the operation. Either pass `include_groups=False` to exclude the groupings or explicitly select the grouping columns after groupby to silence this warning.\n",
      "  home_batters = df.groupby('game_pk',sort=False).apply(get_home_batting_order)\n",
      "/var/folders/4f/yqk707nn61d0n9l9qmlg7f4w0000gn/T/ipykernel_92129/1761772045.py:120: DeprecationWarning: DataFrameGroupBy.apply operated on the grouping columns. This behavior is deprecated, and in a future version of pandas the grouping columns will be excluded from the operation. Either pass `include_groups=False` to exclude the groupings or explicitly select the grouping columns after groupby to silence this warning.\n",
      "  .apply(extract_batting_events))\n",
      "/var/folders/4f/yqk707nn61d0n9l9qmlg7f4w0000gn/T/ipykernel_92129/1761772045.py:123: DeprecationWarning: DataFrameGroupBy.apply operated on the grouping columns. This behavior is deprecated, and in a future version of pandas the grouping columns will be excluded from the operation. Either pass `include_groups=False` to exclude the groupings or explicitly select the grouping columns after groupby to silence this warning.\n",
      "  .apply(extract_batting_events))\n",
      "/var/folders/4f/yqk707nn61d0n9l9qmlg7f4w0000gn/T/ipykernel_92129/1761772045.py:50: DeprecationWarning: DataFrameGroupBy.apply operated on the grouping columns. This behavior is deprecated, and in a future version of pandas the grouping columns will be excluded from the operation. Either pass `include_groups=False` to exclude the groupings or explicitly select the grouping columns after groupby to silence this warning.\n",
      "  data = df.groupby('game_pk',sort=False).apply(lambda group: pd.Series({\n",
      "/var/folders/4f/yqk707nn61d0n9l9qmlg7f4w0000gn/T/ipykernel_92129/1761772045.py:63: DeprecationWarning: DataFrameGroupBy.apply operated on the grouping columns. This behavior is deprecated, and in a future version of pandas the grouping columns will be excluded from the operation. Either pass `include_groups=False` to exclude the groupings or explicitly select the grouping columns after groupby to silence this warning.\n",
      "  away_batters = df.groupby('game_pk',sort=False).apply(get_away_batting_order)\n",
      "/var/folders/4f/yqk707nn61d0n9l9qmlg7f4w0000gn/T/ipykernel_92129/1761772045.py:64: DeprecationWarning: DataFrameGroupBy.apply operated on the grouping columns. This behavior is deprecated, and in a future version of pandas the grouping columns will be excluded from the operation. Either pass `include_groups=False` to exclude the groupings or explicitly select the grouping columns after groupby to silence this warning.\n",
      "  home_batters = df.groupby('game_pk',sort=False).apply(get_home_batting_order)\n",
      "/var/folders/4f/yqk707nn61d0n9l9qmlg7f4w0000gn/T/ipykernel_92129/1761772045.py:120: DeprecationWarning: DataFrameGroupBy.apply operated on the grouping columns. This behavior is deprecated, and in a future version of pandas the grouping columns will be excluded from the operation. Either pass `include_groups=False` to exclude the groupings or explicitly select the grouping columns after groupby to silence this warning.\n",
      "  .apply(extract_batting_events))\n",
      "/var/folders/4f/yqk707nn61d0n9l9qmlg7f4w0000gn/T/ipykernel_92129/1761772045.py:123: DeprecationWarning: DataFrameGroupBy.apply operated on the grouping columns. This behavior is deprecated, and in a future version of pandas the grouping columns will be excluded from the operation. Either pass `include_groups=False` to exclude the groupings or explicitly select the grouping columns after groupby to silence this warning.\n",
      "  .apply(extract_batting_events))\n",
      "/var/folders/4f/yqk707nn61d0n9l9qmlg7f4w0000gn/T/ipykernel_92129/1761772045.py:50: DeprecationWarning: DataFrameGroupBy.apply operated on the grouping columns. This behavior is deprecated, and in a future version of pandas the grouping columns will be excluded from the operation. Either pass `include_groups=False` to exclude the groupings or explicitly select the grouping columns after groupby to silence this warning.\n",
      "  data = df.groupby('game_pk',sort=False).apply(lambda group: pd.Series({\n",
      "/var/folders/4f/yqk707nn61d0n9l9qmlg7f4w0000gn/T/ipykernel_92129/1761772045.py:63: DeprecationWarning: DataFrameGroupBy.apply operated on the grouping columns. This behavior is deprecated, and in a future version of pandas the grouping columns will be excluded from the operation. Either pass `include_groups=False` to exclude the groupings or explicitly select the grouping columns after groupby to silence this warning.\n",
      "  away_batters = df.groupby('game_pk',sort=False).apply(get_away_batting_order)\n",
      "/var/folders/4f/yqk707nn61d0n9l9qmlg7f4w0000gn/T/ipykernel_92129/1761772045.py:64: DeprecationWarning: DataFrameGroupBy.apply operated on the grouping columns. This behavior is deprecated, and in a future version of pandas the grouping columns will be excluded from the operation. Either pass `include_groups=False` to exclude the groupings or explicitly select the grouping columns after groupby to silence this warning.\n",
      "  home_batters = df.groupby('game_pk',sort=False).apply(get_home_batting_order)\n",
      "/var/folders/4f/yqk707nn61d0n9l9qmlg7f4w0000gn/T/ipykernel_92129/1761772045.py:120: DeprecationWarning: DataFrameGroupBy.apply operated on the grouping columns. This behavior is deprecated, and in a future version of pandas the grouping columns will be excluded from the operation. Either pass `include_groups=False` to exclude the groupings or explicitly select the grouping columns after groupby to silence this warning.\n",
      "  .apply(extract_batting_events))\n",
      "/var/folders/4f/yqk707nn61d0n9l9qmlg7f4w0000gn/T/ipykernel_92129/1761772045.py:123: DeprecationWarning: DataFrameGroupBy.apply operated on the grouping columns. This behavior is deprecated, and in a future version of pandas the grouping columns will be excluded from the operation. Either pass `include_groups=False` to exclude the groupings or explicitly select the grouping columns after groupby to silence this warning.\n",
      "  .apply(extract_batting_events))\n",
      "/var/folders/4f/yqk707nn61d0n9l9qmlg7f4w0000gn/T/ipykernel_92129/1761772045.py:50: DeprecationWarning: DataFrameGroupBy.apply operated on the grouping columns. This behavior is deprecated, and in a future version of pandas the grouping columns will be excluded from the operation. Either pass `include_groups=False` to exclude the groupings or explicitly select the grouping columns after groupby to silence this warning.\n",
      "  data = df.groupby('game_pk',sort=False).apply(lambda group: pd.Series({\n",
      "/var/folders/4f/yqk707nn61d0n9l9qmlg7f4w0000gn/T/ipykernel_92129/1761772045.py:63: DeprecationWarning: DataFrameGroupBy.apply operated on the grouping columns. This behavior is deprecated, and in a future version of pandas the grouping columns will be excluded from the operation. Either pass `include_groups=False` to exclude the groupings or explicitly select the grouping columns after groupby to silence this warning.\n",
      "  away_batters = df.groupby('game_pk',sort=False).apply(get_away_batting_order)\n",
      "/var/folders/4f/yqk707nn61d0n9l9qmlg7f4w0000gn/T/ipykernel_92129/1761772045.py:64: DeprecationWarning: DataFrameGroupBy.apply operated on the grouping columns. This behavior is deprecated, and in a future version of pandas the grouping columns will be excluded from the operation. Either pass `include_groups=False` to exclude the groupings or explicitly select the grouping columns after groupby to silence this warning.\n",
      "  home_batters = df.groupby('game_pk',sort=False).apply(get_home_batting_order)\n",
      "/var/folders/4f/yqk707nn61d0n9l9qmlg7f4w0000gn/T/ipykernel_92129/1761772045.py:120: DeprecationWarning: DataFrameGroupBy.apply operated on the grouping columns. This behavior is deprecated, and in a future version of pandas the grouping columns will be excluded from the operation. Either pass `include_groups=False` to exclude the groupings or explicitly select the grouping columns after groupby to silence this warning.\n",
      "  .apply(extract_batting_events))\n",
      "/var/folders/4f/yqk707nn61d0n9l9qmlg7f4w0000gn/T/ipykernel_92129/1761772045.py:123: DeprecationWarning: DataFrameGroupBy.apply operated on the grouping columns. This behavior is deprecated, and in a future version of pandas the grouping columns will be excluded from the operation. Either pass `include_groups=False` to exclude the groupings or explicitly select the grouping columns after groupby to silence this warning.\n",
      "  .apply(extract_batting_events))\n",
      "/var/folders/4f/yqk707nn61d0n9l9qmlg7f4w0000gn/T/ipykernel_92129/1761772045.py:50: DeprecationWarning: DataFrameGroupBy.apply operated on the grouping columns. This behavior is deprecated, and in a future version of pandas the grouping columns will be excluded from the operation. Either pass `include_groups=False` to exclude the groupings or explicitly select the grouping columns after groupby to silence this warning.\n",
      "  data = df.groupby('game_pk',sort=False).apply(lambda group: pd.Series({\n",
      "/var/folders/4f/yqk707nn61d0n9l9qmlg7f4w0000gn/T/ipykernel_92129/1761772045.py:63: DeprecationWarning: DataFrameGroupBy.apply operated on the grouping columns. This behavior is deprecated, and in a future version of pandas the grouping columns will be excluded from the operation. Either pass `include_groups=False` to exclude the groupings or explicitly select the grouping columns after groupby to silence this warning.\n",
      "  away_batters = df.groupby('game_pk',sort=False).apply(get_away_batting_order)\n",
      "/var/folders/4f/yqk707nn61d0n9l9qmlg7f4w0000gn/T/ipykernel_92129/1761772045.py:64: DeprecationWarning: DataFrameGroupBy.apply operated on the grouping columns. This behavior is deprecated, and in a future version of pandas the grouping columns will be excluded from the operation. Either pass `include_groups=False` to exclude the groupings or explicitly select the grouping columns after groupby to silence this warning.\n",
      "  home_batters = df.groupby('game_pk',sort=False).apply(get_home_batting_order)\n",
      "/var/folders/4f/yqk707nn61d0n9l9qmlg7f4w0000gn/T/ipykernel_92129/1761772045.py:120: DeprecationWarning: DataFrameGroupBy.apply operated on the grouping columns. This behavior is deprecated, and in a future version of pandas the grouping columns will be excluded from the operation. Either pass `include_groups=False` to exclude the groupings or explicitly select the grouping columns after groupby to silence this warning.\n",
      "  .apply(extract_batting_events))\n",
      "/var/folders/4f/yqk707nn61d0n9l9qmlg7f4w0000gn/T/ipykernel_92129/1761772045.py:123: DeprecationWarning: DataFrameGroupBy.apply operated on the grouping columns. This behavior is deprecated, and in a future version of pandas the grouping columns will be excluded from the operation. Either pass `include_groups=False` to exclude the groupings or explicitly select the grouping columns after groupby to silence this warning.\n",
      "  .apply(extract_batting_events))\n",
      "/var/folders/4f/yqk707nn61d0n9l9qmlg7f4w0000gn/T/ipykernel_92129/1761772045.py:50: DeprecationWarning: DataFrameGroupBy.apply operated on the grouping columns. This behavior is deprecated, and in a future version of pandas the grouping columns will be excluded from the operation. Either pass `include_groups=False` to exclude the groupings or explicitly select the grouping columns after groupby to silence this warning.\n",
      "  data = df.groupby('game_pk',sort=False).apply(lambda group: pd.Series({\n",
      "/var/folders/4f/yqk707nn61d0n9l9qmlg7f4w0000gn/T/ipykernel_92129/1761772045.py:63: DeprecationWarning: DataFrameGroupBy.apply operated on the grouping columns. This behavior is deprecated, and in a future version of pandas the grouping columns will be excluded from the operation. Either pass `include_groups=False` to exclude the groupings or explicitly select the grouping columns after groupby to silence this warning.\n",
      "  away_batters = df.groupby('game_pk',sort=False).apply(get_away_batting_order)\n",
      "/var/folders/4f/yqk707nn61d0n9l9qmlg7f4w0000gn/T/ipykernel_92129/1761772045.py:64: DeprecationWarning: DataFrameGroupBy.apply operated on the grouping columns. This behavior is deprecated, and in a future version of pandas the grouping columns will be excluded from the operation. Either pass `include_groups=False` to exclude the groupings or explicitly select the grouping columns after groupby to silence this warning.\n",
      "  home_batters = df.groupby('game_pk',sort=False).apply(get_home_batting_order)\n",
      "/var/folders/4f/yqk707nn61d0n9l9qmlg7f4w0000gn/T/ipykernel_92129/1761772045.py:120: DeprecationWarning: DataFrameGroupBy.apply operated on the grouping columns. This behavior is deprecated, and in a future version of pandas the grouping columns will be excluded from the operation. Either pass `include_groups=False` to exclude the groupings or explicitly select the grouping columns after groupby to silence this warning.\n",
      "  .apply(extract_batting_events))\n",
      "/var/folders/4f/yqk707nn61d0n9l9qmlg7f4w0000gn/T/ipykernel_92129/1761772045.py:123: DeprecationWarning: DataFrameGroupBy.apply operated on the grouping columns. This behavior is deprecated, and in a future version of pandas the grouping columns will be excluded from the operation. Either pass `include_groups=False` to exclude the groupings or explicitly select the grouping columns after groupby to silence this warning.\n",
      "  .apply(extract_batting_events))\n",
      "/var/folders/4f/yqk707nn61d0n9l9qmlg7f4w0000gn/T/ipykernel_92129/1761772045.py:50: DeprecationWarning: DataFrameGroupBy.apply operated on the grouping columns. This behavior is deprecated, and in a future version of pandas the grouping columns will be excluded from the operation. Either pass `include_groups=False` to exclude the groupings or explicitly select the grouping columns after groupby to silence this warning.\n",
      "  data = df.groupby('game_pk',sort=False).apply(lambda group: pd.Series({\n",
      "/var/folders/4f/yqk707nn61d0n9l9qmlg7f4w0000gn/T/ipykernel_92129/1761772045.py:63: DeprecationWarning: DataFrameGroupBy.apply operated on the grouping columns. This behavior is deprecated, and in a future version of pandas the grouping columns will be excluded from the operation. Either pass `include_groups=False` to exclude the groupings or explicitly select the grouping columns after groupby to silence this warning.\n",
      "  away_batters = df.groupby('game_pk',sort=False).apply(get_away_batting_order)\n",
      "/var/folders/4f/yqk707nn61d0n9l9qmlg7f4w0000gn/T/ipykernel_92129/1761772045.py:64: DeprecationWarning: DataFrameGroupBy.apply operated on the grouping columns. This behavior is deprecated, and in a future version of pandas the grouping columns will be excluded from the operation. Either pass `include_groups=False` to exclude the groupings or explicitly select the grouping columns after groupby to silence this warning.\n",
      "  home_batters = df.groupby('game_pk',sort=False).apply(get_home_batting_order)\n",
      "/var/folders/4f/yqk707nn61d0n9l9qmlg7f4w0000gn/T/ipykernel_92129/1761772045.py:120: DeprecationWarning: DataFrameGroupBy.apply operated on the grouping columns. This behavior is deprecated, and in a future version of pandas the grouping columns will be excluded from the operation. Either pass `include_groups=False` to exclude the groupings or explicitly select the grouping columns after groupby to silence this warning.\n",
      "  .apply(extract_batting_events))\n",
      "/var/folders/4f/yqk707nn61d0n9l9qmlg7f4w0000gn/T/ipykernel_92129/1761772045.py:123: DeprecationWarning: DataFrameGroupBy.apply operated on the grouping columns. This behavior is deprecated, and in a future version of pandas the grouping columns will be excluded from the operation. Either pass `include_groups=False` to exclude the groupings or explicitly select the grouping columns after groupby to silence this warning.\n",
      "  .apply(extract_batting_events))\n",
      "/var/folders/4f/yqk707nn61d0n9l9qmlg7f4w0000gn/T/ipykernel_92129/1761772045.py:50: DeprecationWarning: DataFrameGroupBy.apply operated on the grouping columns. This behavior is deprecated, and in a future version of pandas the grouping columns will be excluded from the operation. Either pass `include_groups=False` to exclude the groupings or explicitly select the grouping columns after groupby to silence this warning.\n",
      "  data = df.groupby('game_pk',sort=False).apply(lambda group: pd.Series({\n",
      "/var/folders/4f/yqk707nn61d0n9l9qmlg7f4w0000gn/T/ipykernel_92129/1761772045.py:63: DeprecationWarning: DataFrameGroupBy.apply operated on the grouping columns. This behavior is deprecated, and in a future version of pandas the grouping columns will be excluded from the operation. Either pass `include_groups=False` to exclude the groupings or explicitly select the grouping columns after groupby to silence this warning.\n",
      "  away_batters = df.groupby('game_pk',sort=False).apply(get_away_batting_order)\n",
      "/var/folders/4f/yqk707nn61d0n9l9qmlg7f4w0000gn/T/ipykernel_92129/1761772045.py:64: DeprecationWarning: DataFrameGroupBy.apply operated on the grouping columns. This behavior is deprecated, and in a future version of pandas the grouping columns will be excluded from the operation. Either pass `include_groups=False` to exclude the groupings or explicitly select the grouping columns after groupby to silence this warning.\n",
      "  home_batters = df.groupby('game_pk',sort=False).apply(get_home_batting_order)\n",
      "/var/folders/4f/yqk707nn61d0n9l9qmlg7f4w0000gn/T/ipykernel_92129/1761772045.py:120: DeprecationWarning: DataFrameGroupBy.apply operated on the grouping columns. This behavior is deprecated, and in a future version of pandas the grouping columns will be excluded from the operation. Either pass `include_groups=False` to exclude the groupings or explicitly select the grouping columns after groupby to silence this warning.\n",
      "  .apply(extract_batting_events))\n",
      "/var/folders/4f/yqk707nn61d0n9l9qmlg7f4w0000gn/T/ipykernel_92129/1761772045.py:123: DeprecationWarning: DataFrameGroupBy.apply operated on the grouping columns. This behavior is deprecated, and in a future version of pandas the grouping columns will be excluded from the operation. Either pass `include_groups=False` to exclude the groupings or explicitly select the grouping columns after groupby to silence this warning.\n",
      "  .apply(extract_batting_events))\n",
      "/var/folders/4f/yqk707nn61d0n9l9qmlg7f4w0000gn/T/ipykernel_92129/1761772045.py:50: DeprecationWarning: DataFrameGroupBy.apply operated on the grouping columns. This behavior is deprecated, and in a future version of pandas the grouping columns will be excluded from the operation. Either pass `include_groups=False` to exclude the groupings or explicitly select the grouping columns after groupby to silence this warning.\n",
      "  data = df.groupby('game_pk',sort=False).apply(lambda group: pd.Series({\n",
      "/var/folders/4f/yqk707nn61d0n9l9qmlg7f4w0000gn/T/ipykernel_92129/1761772045.py:63: DeprecationWarning: DataFrameGroupBy.apply operated on the grouping columns. This behavior is deprecated, and in a future version of pandas the grouping columns will be excluded from the operation. Either pass `include_groups=False` to exclude the groupings or explicitly select the grouping columns after groupby to silence this warning.\n",
      "  away_batters = df.groupby('game_pk',sort=False).apply(get_away_batting_order)\n",
      "/var/folders/4f/yqk707nn61d0n9l9qmlg7f4w0000gn/T/ipykernel_92129/1761772045.py:64: DeprecationWarning: DataFrameGroupBy.apply operated on the grouping columns. This behavior is deprecated, and in a future version of pandas the grouping columns will be excluded from the operation. Either pass `include_groups=False` to exclude the groupings or explicitly select the grouping columns after groupby to silence this warning.\n",
      "  home_batters = df.groupby('game_pk',sort=False).apply(get_home_batting_order)\n",
      "/var/folders/4f/yqk707nn61d0n9l9qmlg7f4w0000gn/T/ipykernel_92129/1761772045.py:120: DeprecationWarning: DataFrameGroupBy.apply operated on the grouping columns. This behavior is deprecated, and in a future version of pandas the grouping columns will be excluded from the operation. Either pass `include_groups=False` to exclude the groupings or explicitly select the grouping columns after groupby to silence this warning.\n",
      "  .apply(extract_batting_events))\n",
      "/var/folders/4f/yqk707nn61d0n9l9qmlg7f4w0000gn/T/ipykernel_92129/1761772045.py:123: DeprecationWarning: DataFrameGroupBy.apply operated on the grouping columns. This behavior is deprecated, and in a future version of pandas the grouping columns will be excluded from the operation. Either pass `include_groups=False` to exclude the groupings or explicitly select the grouping columns after groupby to silence this warning.\n",
      "  .apply(extract_batting_events))\n",
      "/var/folders/4f/yqk707nn61d0n9l9qmlg7f4w0000gn/T/ipykernel_92129/1761772045.py:50: DeprecationWarning: DataFrameGroupBy.apply operated on the grouping columns. This behavior is deprecated, and in a future version of pandas the grouping columns will be excluded from the operation. Either pass `include_groups=False` to exclude the groupings or explicitly select the grouping columns after groupby to silence this warning.\n",
      "  data = df.groupby('game_pk',sort=False).apply(lambda group: pd.Series({\n",
      "/var/folders/4f/yqk707nn61d0n9l9qmlg7f4w0000gn/T/ipykernel_92129/1761772045.py:63: DeprecationWarning: DataFrameGroupBy.apply operated on the grouping columns. This behavior is deprecated, and in a future version of pandas the grouping columns will be excluded from the operation. Either pass `include_groups=False` to exclude the groupings or explicitly select the grouping columns after groupby to silence this warning.\n",
      "  away_batters = df.groupby('game_pk',sort=False).apply(get_away_batting_order)\n",
      "/var/folders/4f/yqk707nn61d0n9l9qmlg7f4w0000gn/T/ipykernel_92129/1761772045.py:64: DeprecationWarning: DataFrameGroupBy.apply operated on the grouping columns. This behavior is deprecated, and in a future version of pandas the grouping columns will be excluded from the operation. Either pass `include_groups=False` to exclude the groupings or explicitly select the grouping columns after groupby to silence this warning.\n",
      "  home_batters = df.groupby('game_pk',sort=False).apply(get_home_batting_order)\n",
      "/var/folders/4f/yqk707nn61d0n9l9qmlg7f4w0000gn/T/ipykernel_92129/1761772045.py:120: DeprecationWarning: DataFrameGroupBy.apply operated on the grouping columns. This behavior is deprecated, and in a future version of pandas the grouping columns will be excluded from the operation. Either pass `include_groups=False` to exclude the groupings or explicitly select the grouping columns after groupby to silence this warning.\n",
      "  .apply(extract_batting_events))\n"
     ]
    },
    {
     "name": "stdout",
     "output_type": "stream",
     "text": [
      "CPU times: user 1h 46min 19s, sys: 1min 17s, total: 1h 47min 37s\n",
      "Wall time: 1h 49min 4s\n"
     ]
    },
    {
     "name": "stderr",
     "output_type": "stream",
     "text": [
      "/var/folders/4f/yqk707nn61d0n9l9qmlg7f4w0000gn/T/ipykernel_92129/1761772045.py:123: DeprecationWarning: DataFrameGroupBy.apply operated on the grouping columns. This behavior is deprecated, and in a future version of pandas the grouping columns will be excluded from the operation. Either pass `include_groups=False` to exclude the groupings or explicitly select the grouping columns after groupby to silence this warning.\n",
      "  .apply(extract_batting_events))\n"
     ]
    }
   ],
   "source": [
    "%%time\n",
    "# generate csv files of batting stats\n",
    "batting_stats_to_csv(dfs)"
   ]
  },
  {
   "cell_type": "code",
   "execution_count": 6,
   "metadata": {},
   "outputs": [
    {
     "name": "stderr",
     "output_type": "stream",
     "text": [
      "/var/folders/4f/yqk707nn61d0n9l9qmlg7f4w0000gn/T/ipykernel_92129/1761772045.py:50: DeprecationWarning: DataFrameGroupBy.apply operated on the grouping columns. This behavior is deprecated, and in a future version of pandas the grouping columns will be excluded from the operation. Either pass `include_groups=False` to exclude the groupings or explicitly select the grouping columns after groupby to silence this warning.\n",
      "  data = df.groupby('game_pk',sort=False).apply(lambda group: pd.Series({\n",
      "/var/folders/4f/yqk707nn61d0n9l9qmlg7f4w0000gn/T/ipykernel_92129/1761772045.py:63: DeprecationWarning: DataFrameGroupBy.apply operated on the grouping columns. This behavior is deprecated, and in a future version of pandas the grouping columns will be excluded from the operation. Either pass `include_groups=False` to exclude the groupings or explicitly select the grouping columns after groupby to silence this warning.\n",
      "  away_batters = df.groupby('game_pk',sort=False).apply(get_away_batting_order)\n",
      "/var/folders/4f/yqk707nn61d0n9l9qmlg7f4w0000gn/T/ipykernel_92129/1761772045.py:64: DeprecationWarning: DataFrameGroupBy.apply operated on the grouping columns. This behavior is deprecated, and in a future version of pandas the grouping columns will be excluded from the operation. Either pass `include_groups=False` to exclude the groupings or explicitly select the grouping columns after groupby to silence this warning.\n",
      "  home_batters = df.groupby('game_pk',sort=False).apply(get_home_batting_order)\n"
     ]
    },
    {
     "ename": "KeyError",
     "evalue": "'starting_pitcher'",
     "output_type": "error",
     "traceback": [
      "\u001b[0;31m---------------------------------------------------------------------------\u001b[0m",
      "\u001b[0;31mKeyError\u001b[0m                                  Traceback (most recent call last)",
      "File \u001b[0;32m/opt/anaconda3/envs/cpsc330/lib/python3.10/site-packages/pandas/core/indexes/base.py:3805\u001b[0m, in \u001b[0;36mIndex.get_loc\u001b[0;34m(self, key)\u001b[0m\n\u001b[1;32m   3804\u001b[0m \u001b[38;5;28;01mtry\u001b[39;00m:\n\u001b[0;32m-> 3805\u001b[0m     \u001b[38;5;28;01mreturn\u001b[39;00m \u001b[38;5;28;43mself\u001b[39;49m\u001b[38;5;241;43m.\u001b[39;49m\u001b[43m_engine\u001b[49m\u001b[38;5;241;43m.\u001b[39;49m\u001b[43mget_loc\u001b[49m\u001b[43m(\u001b[49m\u001b[43mcasted_key\u001b[49m\u001b[43m)\u001b[49m\n\u001b[1;32m   3806\u001b[0m \u001b[38;5;28;01mexcept\u001b[39;00m \u001b[38;5;167;01mKeyError\u001b[39;00m \u001b[38;5;28;01mas\u001b[39;00m err:\n",
      "File \u001b[0;32mindex.pyx:167\u001b[0m, in \u001b[0;36mpandas._libs.index.IndexEngine.get_loc\u001b[0;34m()\u001b[0m\n",
      "File \u001b[0;32mindex.pyx:196\u001b[0m, in \u001b[0;36mpandas._libs.index.IndexEngine.get_loc\u001b[0;34m()\u001b[0m\n",
      "File \u001b[0;32mpandas/_libs/hashtable_class_helper.pxi:7081\u001b[0m, in \u001b[0;36mpandas._libs.hashtable.PyObjectHashTable.get_item\u001b[0;34m()\u001b[0m\n",
      "File \u001b[0;32mpandas/_libs/hashtable_class_helper.pxi:7089\u001b[0m, in \u001b[0;36mpandas._libs.hashtable.PyObjectHashTable.get_item\u001b[0;34m()\u001b[0m\n",
      "\u001b[0;31mKeyError\u001b[0m: 'starting_pitcher'",
      "\nThe above exception was the direct cause of the following exception:\n",
      "\u001b[0;31mKeyError\u001b[0m                                  Traceback (most recent call last)",
      "File \u001b[0;32m<timed eval>:2\u001b[0m\n",
      "Cell \u001b[0;32mIn[2], line 260\u001b[0m, in \u001b[0;36mpitching_stats_to_csv\u001b[0;34m(dfs)\u001b[0m\n\u001b[1;32m    258\u001b[0m \u001b[38;5;28;01mdef\u001b[39;00m \u001b[38;5;21mpitching_stats_to_csv\u001b[39m(dfs):\n\u001b[1;32m    259\u001b[0m     \u001b[38;5;28;01mfor\u001b[39;00m key, value \u001b[38;5;129;01min\u001b[39;00m dfs\u001b[38;5;241m.\u001b[39mitems():\n\u001b[0;32m--> 260\u001b[0m         data \u001b[38;5;241m=\u001b[39m \u001b[43mget_pitching_stats\u001b[49m\u001b[43m(\u001b[49m\u001b[43mvalue\u001b[49m\u001b[43m)\u001b[49m\n\u001b[1;32m    261\u001b[0m         data\u001b[38;5;241m.\u001b[39mto_csv(\u001b[38;5;124mf\u001b[39m\u001b[38;5;124m'\u001b[39m\u001b[38;5;124mdata_2014_to_2024/\u001b[39m\u001b[38;5;132;01m{\u001b[39;00mkey\u001b[38;5;132;01m}\u001b[39;00m\u001b[38;5;124m_pitching_stats.csv\u001b[39m\u001b[38;5;124m'\u001b[39m)\n",
      "Cell \u001b[0;32mIn[2], line 217\u001b[0m, in \u001b[0;36mget_pitching_stats\u001b[0;34m(df)\u001b[0m\n\u001b[1;32m    215\u001b[0m \u001b[38;5;28;01mfor\u001b[39;00m idx, row \u001b[38;5;129;01min\u001b[39;00m game\u001b[38;5;241m.\u001b[39miterrows():\n\u001b[1;32m    216\u001b[0m     game_pk \u001b[38;5;241m=\u001b[39m row[\u001b[38;5;124m'\u001b[39m\u001b[38;5;124mgame_pk\u001b[39m\u001b[38;5;124m'\u001b[39m]\n\u001b[0;32m--> 217\u001b[0m     starting_pitcher \u001b[38;5;241m=\u001b[39m \u001b[43mrow\u001b[49m\u001b[43m[\u001b[49m\u001b[38;5;124;43m'\u001b[39;49m\u001b[38;5;124;43mstarting_pitcher\u001b[39;49m\u001b[38;5;124;43m'\u001b[39;49m\u001b[43m]\u001b[49m\n\u001b[1;32m    218\u001b[0m     np, ip, er, k, bb, h \u001b[38;5;241m=\u001b[39m extract_p_stats_from_api(game_pk,starting_pitcher, is_home\u001b[38;5;241m=\u001b[39m\u001b[38;5;28;01mFalse\u001b[39;00m)\n\u001b[1;32m    219\u001b[0m     new_row \u001b[38;5;241m=\u001b[39m pd\u001b[38;5;241m.\u001b[39mDataFrame([[game_pk,starting_pitcher,np,ip,er,k,bb,h]], columns\u001b[38;5;241m=\u001b[39mpitching_away_stats\u001b[38;5;241m.\u001b[39mcolumns)\n",
      "File \u001b[0;32m/opt/anaconda3/envs/cpsc330/lib/python3.10/site-packages/pandas/core/series.py:1121\u001b[0m, in \u001b[0;36mSeries.__getitem__\u001b[0;34m(self, key)\u001b[0m\n\u001b[1;32m   1118\u001b[0m     \u001b[38;5;28;01mreturn\u001b[39;00m \u001b[38;5;28mself\u001b[39m\u001b[38;5;241m.\u001b[39m_values[key]\n\u001b[1;32m   1120\u001b[0m \u001b[38;5;28;01melif\u001b[39;00m key_is_scalar:\n\u001b[0;32m-> 1121\u001b[0m     \u001b[38;5;28;01mreturn\u001b[39;00m \u001b[38;5;28;43mself\u001b[39;49m\u001b[38;5;241;43m.\u001b[39;49m\u001b[43m_get_value\u001b[49m\u001b[43m(\u001b[49m\u001b[43mkey\u001b[49m\u001b[43m)\u001b[49m\n\u001b[1;32m   1123\u001b[0m \u001b[38;5;66;03m# Convert generator to list before going through hashable part\u001b[39;00m\n\u001b[1;32m   1124\u001b[0m \u001b[38;5;66;03m# (We will iterate through the generator there to check for slices)\u001b[39;00m\n\u001b[1;32m   1125\u001b[0m \u001b[38;5;28;01mif\u001b[39;00m is_iterator(key):\n",
      "File \u001b[0;32m/opt/anaconda3/envs/cpsc330/lib/python3.10/site-packages/pandas/core/series.py:1237\u001b[0m, in \u001b[0;36mSeries._get_value\u001b[0;34m(self, label, takeable)\u001b[0m\n\u001b[1;32m   1234\u001b[0m     \u001b[38;5;28;01mreturn\u001b[39;00m \u001b[38;5;28mself\u001b[39m\u001b[38;5;241m.\u001b[39m_values[label]\n\u001b[1;32m   1236\u001b[0m \u001b[38;5;66;03m# Similar to Index.get_value, but we do not fall back to positional\u001b[39;00m\n\u001b[0;32m-> 1237\u001b[0m loc \u001b[38;5;241m=\u001b[39m \u001b[38;5;28;43mself\u001b[39;49m\u001b[38;5;241;43m.\u001b[39;49m\u001b[43mindex\u001b[49m\u001b[38;5;241;43m.\u001b[39;49m\u001b[43mget_loc\u001b[49m\u001b[43m(\u001b[49m\u001b[43mlabel\u001b[49m\u001b[43m)\u001b[49m\n\u001b[1;32m   1239\u001b[0m \u001b[38;5;28;01mif\u001b[39;00m is_integer(loc):\n\u001b[1;32m   1240\u001b[0m     \u001b[38;5;28;01mreturn\u001b[39;00m \u001b[38;5;28mself\u001b[39m\u001b[38;5;241m.\u001b[39m_values[loc]\n",
      "File \u001b[0;32m/opt/anaconda3/envs/cpsc330/lib/python3.10/site-packages/pandas/core/indexes/base.py:3812\u001b[0m, in \u001b[0;36mIndex.get_loc\u001b[0;34m(self, key)\u001b[0m\n\u001b[1;32m   3807\u001b[0m     \u001b[38;5;28;01mif\u001b[39;00m \u001b[38;5;28misinstance\u001b[39m(casted_key, \u001b[38;5;28mslice\u001b[39m) \u001b[38;5;129;01mor\u001b[39;00m (\n\u001b[1;32m   3808\u001b[0m         \u001b[38;5;28misinstance\u001b[39m(casted_key, abc\u001b[38;5;241m.\u001b[39mIterable)\n\u001b[1;32m   3809\u001b[0m         \u001b[38;5;129;01mand\u001b[39;00m \u001b[38;5;28many\u001b[39m(\u001b[38;5;28misinstance\u001b[39m(x, \u001b[38;5;28mslice\u001b[39m) \u001b[38;5;28;01mfor\u001b[39;00m x \u001b[38;5;129;01min\u001b[39;00m casted_key)\n\u001b[1;32m   3810\u001b[0m     ):\n\u001b[1;32m   3811\u001b[0m         \u001b[38;5;28;01mraise\u001b[39;00m InvalidIndexError(key)\n\u001b[0;32m-> 3812\u001b[0m     \u001b[38;5;28;01mraise\u001b[39;00m \u001b[38;5;167;01mKeyError\u001b[39;00m(key) \u001b[38;5;28;01mfrom\u001b[39;00m \u001b[38;5;21;01merr\u001b[39;00m\n\u001b[1;32m   3813\u001b[0m \u001b[38;5;28;01mexcept\u001b[39;00m \u001b[38;5;167;01mTypeError\u001b[39;00m:\n\u001b[1;32m   3814\u001b[0m     \u001b[38;5;66;03m# If we have a listlike key, _check_indexing_error will raise\u001b[39;00m\n\u001b[1;32m   3815\u001b[0m     \u001b[38;5;66;03m#  InvalidIndexError. Otherwise we fall through and re-raise\u001b[39;00m\n\u001b[1;32m   3816\u001b[0m     \u001b[38;5;66;03m#  the TypeError.\u001b[39;00m\n\u001b[1;32m   3817\u001b[0m     \u001b[38;5;28mself\u001b[39m\u001b[38;5;241m.\u001b[39m_check_indexing_error(key)\n",
      "\u001b[0;31mKeyError\u001b[0m: 'starting_pitcher'"
     ]
    }
   ],
   "source": [
    "%%time\n",
    "# generate csv files of pitching stats\n",
    "pitching_stats_to_csv(dfs)"
   ]
  },
  {
   "cell_type": "code",
   "execution_count": null,
   "metadata": {},
   "outputs": [],
   "source": []
  }
 ],
 "metadata": {
  "kernelspec": {
   "display_name": "cpsc330",
   "language": "python",
   "name": "python3"
  },
  "language_info": {
   "codemirror_mode": {
    "name": "ipython",
    "version": 3
   },
   "file_extension": ".py",
   "mimetype": "text/x-python",
   "name": "python",
   "nbconvert_exporter": "python",
   "pygments_lexer": "ipython3",
   "version": "3.10.0"
  }
 },
 "nbformat": 4,
 "nbformat_minor": 2
}
