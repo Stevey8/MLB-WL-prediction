{
 "cells": [
  {
   "cell_type": "code",
   "execution_count": 1,
   "metadata": {},
   "outputs": [],
   "source": [
    "import pandas as pd \n",
    "import numpy as np \n",
    "import matplotlib.pyplot as plt \n",
    "import seaborn as sns\n",
    "\n",
    "import requests\n",
    "import json\n",
    "\n",
    "import pybaseball\n",
    "from pybaseball import statcast\n",
    "pybaseball.cache.enable()\n",
    "\n",
    "import warnings\n",
    "warnings.simplefilter(action='ignore', category=FutureWarning)\n"
   ]
  },
  {
   "cell_type": "code",
   "execution_count": 7,
   "metadata": {},
   "outputs": [],
   "source": [
    "# 1. get pitch level data from statcast (call this df)\n",
    "\n",
    "def get_pitch_level_data(season):\n",
    "    '''\n",
    "    get the pitch level data from statcast\n",
    "    *only regular season data*\n",
    "    '''\n",
    "    date = {\n",
    "        2014:(\"2014-03-22\",\"2014-09-28\"),\n",
    "        2015:(\"2015-04-05\",\"2015-10-04\"),\n",
    "        2016:(\"2016-04-03\",\"2016-10-02\"),\n",
    "        2017:(\"2017-04-02\",\"2017-10-01\"),\n",
    "        2018:(\"2018-03-29\",\"2018-09-30\"),\n",
    "        2019:(\"2019-03-20\",\"2019-09-29\"),\n",
    "        2020:(\"2020-07-23\",\"2022-09-27\"),\n",
    "        2021:(\"2021-04-01\",\"2021-10-03\"),\n",
    "        2022:(\"2022-04-07\",\"2022-10-05\"),\n",
    "        2023:(\"2023-03-30\",\"2023-10-01\"),\n",
    "        2024:(\"2024-03-20\",\"2024-09-29\"),\n",
    "    }\n",
    "    df = statcast(start_dt=date[season][0],end_dt=date[season][1]).reset_index().sort_index(ascending=False).reset_index(drop=True)\n",
    "    return df\n",
    "\n",
    "# ---------------------------------------------------------------------------------------------------------------------------------\n",
    "\n",
    "# 2. for each df (of a season), create a dataset that contains basic matchup information of the season (without player stats)\n",
    "\n",
    "def get_away_batting_order(group):\n",
    "    away_batters = group.loc[group['inning_topbot'] == 'Top', 'batter'].unique()[:9]\n",
    "    away_b_dict = {f'away_b{i+1}':away_batters[i] for i in range(9)}\n",
    "    return pd.Series(away_b_dict)\n",
    "\n",
    "def get_home_batting_order(group):\n",
    "    home_batters = group.loc[group['inning_topbot'] == 'Bot', 'batter'].unique()[:9]\n",
    "    home_b_dict = {f'home_b{i+1}':home_batters[i] for i in range(9)}\n",
    "    return pd.Series(home_b_dict)\n",
    "\n",
    "def get_game_info(df):\n",
    "    '''\n",
    "    df: a raw statcast dataset\n",
    "    '''\n",
    "    # list out what kind of data we need for each game\n",
    "    cols = ['home_result','game_pk','date','away_team','home_team','post_away_score','post_home_score','away_starting_pitcher','home_starting_pitcher']\n",
    "\n",
    "    # add batters 1-9 for both away and home\n",
    "    for i in ['away','home']:\n",
    "        for j in range(1,10):\n",
    "            cols.append(f'{i}_b{j}')\n",
    "\n",
    "    data = df.groupby('game_pk',sort=False).apply(lambda group: pd.Series({\n",
    "        'home_result': None,\n",
    "        'date': group['game_date'].iloc[0],  # only one corresponding value\n",
    "        'away_team': group['away_team'].iloc[0],  # only one corresponding value\n",
    "        'home_team': group['home_team'].iloc[0],  # only one corresponding value\n",
    "        'away_final_score': group['post_away_score'].iloc[-1],\n",
    "        'home_final_score': group['post_home_score'].iloc[-1],\n",
    "        'away_starting_pitcher': group.loc[(group['inning'] == 1) & (group['inning_topbot'] == 'Bot'), 'pitcher'].iloc[0],\n",
    "        'home_starting_pitcher': group.loc[(group['inning'] == 1) & (group['inning_topbot'] == 'Top'), 'pitcher'].iloc[0],\n",
    "    })).sort_values(by='date', ascending=True).reset_index()\n",
    "    \n",
    "    data['home_result'] = np.where(data['home_final_score'] > data['away_final_score'], 'W', 'L')\n",
    "\n",
    "    away_batters = df.groupby('game_pk',sort=False).apply(get_away_batting_order)\n",
    "    home_batters = df.groupby('game_pk',sort=False).apply(get_home_batting_order)\n",
    "\n",
    "    data = data.merge(away_batters, on='game_pk').merge(home_batters, on='game_pk')\n",
    "    \n",
    "    return data\n",
    "\n",
    "# ---------------------------------------------------------------------------------------------------------------------------------\n",
    "\n",
    "# 3. from a single df, get game_home and game_away for batting and pitching stats\n",
    "def get_game_away_home(df):\n",
    "    game = get_game_info(df)\n",
    "    game_away = game[['game_pk','away_team','away_starting_pitcher']].rename(columns = {'away_team':'team','away_starting_pitcher':'starting_pitcher'})\n",
    "    game_home = game[['game_pk','home_team','home_starting_pitcher']].rename(columns = {'home_team':'team','home_starting_pitcher':'starting_pitcher'})\n",
    "    game_away.insert(0,'game_sequence',game_away.index+1)\n",
    "    game_home.insert(0,'game_sequence',game_home.index+1)\n",
    "    game_away['is_home'] = False\n",
    "    game_home['is_home'] = True\n",
    "\n",
    "    return game_away, game_home\n",
    "\n",
    "# ---------------------------------------------------------------------------------------------------------------------------------\n",
    "\n",
    "# 4. get batting stats\n",
    "\n",
    "def extract_batting_events(group):\n",
    "    ab_events = ['single', 'double', 'triple', 'home_run', 'strikeout', 'field_out', \n",
    "                 'grounded_into_double_play', 'double_play', 'triple_play', 'strikeout_double_play',\n",
    "                 'fielders_choice', 'fielders_choice_out', 'field_error', 'force_out']\n",
    "    \n",
    "    ab_count = group[group['events'].isin(ab_events)].shape[0]\n",
    "    bb_count = group[group['events'] == 'walk'].shape[0]\n",
    "    hbp_count = group[group['events'] == 'hit_by_pitch'].shape[0]\n",
    "    single_count = group[group['events'] == 'single'].shape[0]\n",
    "    double_count = group[group['events'] == 'double'].shape[0]\n",
    "    triple_count = group[group['events'] == 'triple'].shape[0]\n",
    "    home_run_count = group[group['events'] == 'home_run'].shape[0]\n",
    "    sac_fly_count = group[group['events'].isin(['sac_fly', 'sac_fly_double_play'])].shape[0]\n",
    "\n",
    "    return pd.Series({\n",
    "        'ab': ab_count,\n",
    "        'bb': bb_count,\n",
    "        'hbp': hbp_count,\n",
    "        'single': single_count,\n",
    "        'double': double_count,\n",
    "        'triple': triple_count,\n",
    "        'hr': home_run_count,\n",
    "        'sf': sac_fly_count\n",
    "    })\n",
    "\n",
    "def add_batting_order(df):\n",
    "    df.insert(2,'batting_order',df.index%9+1)\n",
    "    return df\n",
    "\n",
    "def get_batting_stats(df):\n",
    "    '''\n",
    "    df: a raw statcast dataset\n",
    "    '''\n",
    "    game_away, game_home = get_game_away_home(df)\n",
    "    game_away.drop(columns=['starting_pitcher'], inplace=True)\n",
    "    game_home.drop(columns=['starting_pitcher'], inplace=True)\n",
    "\n",
    "    # batting stats \n",
    "    batting_away = (df[df['inning_topbot']=='Top']\n",
    "                    .groupby(['game_pk','batter'],sort=False)\n",
    "                    .apply(extract_batting_events))\n",
    "    batting_home = (df[df['inning_topbot']=='Bot']\n",
    "                    .groupby(['game_pk','batter'],sort=False)\n",
    "                    .apply(extract_batting_events))\n",
    "    \n",
    "    batting_away_lineup = batting_away.groupby('game_pk').head(9).reset_index()\n",
    "    batting_home_lineup = batting_home.groupby('game_pk').head(9).reset_index()\n",
    "\n",
    "    batting_away_lineup_with_order = add_batting_order(batting_away_lineup)\n",
    "    batting_home_lineup_with_order = add_batting_order(batting_home_lineup)\n",
    "\n",
    "    data_away = pd.merge(game_away,batting_away_lineup_with_order,on='game_pk')\n",
    "    data_home = pd.merge(game_home,batting_home_lineup_with_order,on='game_pk')\n",
    "\n",
    "    data = (pd.concat([data_away,data_home],axis=0)\n",
    "            .sort_values(by=['game_sequence','is_home'])\n",
    "            .reset_index(drop=True))\n",
    "    \n",
    "    return data\n",
    "\n",
    "# ---------------------------------------------------------------------------------------------------------------------------------\n",
    "\n",
    "# 5. get pitching data \n",
    "# convert innings pitched (string) into float\n",
    "def convert_ip_to_float(ip):\n",
    "    whole, fraction = ip.split('.')\n",
    "    if fraction == '1':\n",
    "        return float(whole) + 0.33\n",
    "    elif fraction == '2':\n",
    "        return float(whole) + 0.67\n",
    "    else:\n",
    "        return float(ip)\n",
    "    \n",
    "def detect_missing(data):\n",
    "    if isinstance(data, str):\n",
    "        if \"-\" in data:\n",
    "            return True\n",
    "    return False\n",
    "\n",
    "# get data via the MLB Stats API\n",
    "def extract_p_stats_from_api(game_pk, pitcher_id, is_home = True):\n",
    "    # URL for the MLB Stats API to get the boxscore of the game\n",
    "    url = f'https://statsapi.mlb.com/api/v1/game/{game_pk}/boxscore'\n",
    "\n",
    "    # Make a request to the API\n",
    "    response = requests.get(url)\n",
    "\n",
    "    if is_home:\n",
    "        home_away = \"home\"\n",
    "    else: \n",
    "        home_away = \"away\"\n",
    "\n",
    "    if response.status_code == 200:\n",
    "        # Load the JSON data\n",
    "        boxscore_data = response.json()\n",
    "        pitchers = boxscore_data['teams'][home_away]['players']\n",
    "        for player_id, player_data in pitchers.items():\n",
    "            if player_id == f'ID{pitcher_id}' and (\n",
    "                player_data['position']['code'] == '1'  # Code '1' corresponds to pitchers\n",
    "                or \n",
    "                player_data['position']['code'] == '10'  # for Shohei Ohtani :) also his id is 660271\n",
    "            ):\n",
    "                name = player_data['person']['fullName']\n",
    "                stats = player_data['stats']['pitching']\n",
    "                if len(stats)!=0:\n",
    "                    n_pitches = stats[\"pitchesThrown\"]\n",
    "                    ip = convert_ip_to_float(stats[\"inningsPitched\"])\n",
    "                    er = float(stats[\"earnedRuns\"])\n",
    "                    k = stats[\"strikeOuts\"]\n",
    "                    bb = stats[\"baseOnBalls\"]\n",
    "                    h = stats[\"hits\"]\n",
    "                    return n_pitches, ip, er, k, bb, h\n",
    "                else:\n",
    "                    return 0, 0, 0, 0, 0, 0\n",
    "    else:\n",
    "        return 0, 0, 0, 0, 0, 0\n",
    "    \n",
    "\n",
    "def get_pitching_stats(df): \n",
    "    '''\n",
    "    only get the stats from starting pitchers \n",
    "    not considering bullpen\n",
    "    '''\n",
    "\n",
    "    game_away, game_home = get_game_away_home(df)\n",
    "\n",
    "    # get away starting pitcher data\n",
    "    # add cols: 'n_pitches', 'ip', 'er', 'k', 'bb', 'h'\n",
    "    for idx, row in game_away.iterrows():\n",
    "        game_pk = row['game_pk']\n",
    "        starting_pitcher = row['starting_pitcher']\n",
    "        n_pitches, ip, er, k, bb, h = extract_p_stats_from_api(game_pk,starting_pitcher, is_home=False)\n",
    "        game_away.loc[idx,'n_pitches'] = n_pitches\n",
    "        game_away.loc[idx,'ip'] = ip\n",
    "        game_away.loc[idx,'er'] = er\n",
    "        game_away.loc[idx,'k'] = k\n",
    "        game_away.loc[idx,'bb'] = bb\n",
    "        game_away.loc[idx,'h'] = h\n",
    "\n",
    "    # get home starting pitcher data\n",
    "    for idx, row in game_home.iterrows():\n",
    "        game_pk = row['game_pk']\n",
    "        starting_pitcher = row['starting_pitcher']\n",
    "        n_pitches, ip, er, k, bb, h = extract_p_stats_from_api(game_pk,starting_pitcher, is_home=True)\n",
    "        game_home.loc[idx,'n_pitches'] = n_pitches\n",
    "        game_home.loc[idx,'ip'] = ip\n",
    "        game_home.loc[idx,'er'] = er\n",
    "        game_home.loc[idx,'k'] = k\n",
    "        game_home.loc[idx,'bb'] = bb\n",
    "        game_home.loc[idx,'h'] = h\n",
    "\n",
    "    data = (pd.concat([game_away,game_home],axis=0)\n",
    "            .sort_values(by=['game_sequence','is_home'])\n",
    "            .reset_index(drop=True))\n",
    "    \n",
    "    return data\n",
    "    \n",
    "# ---------------------------------------------------------------------------------------------------------------------------------\n",
    "\n",
    "# 6. generate csv files \n",
    "def game_info_to_csv(dfs):\n",
    "    '''\n",
    "    dfs: a dictionary with key = df_{season} and value = statcast raw data\n",
    "    get the basic game information with get_game_info\n",
    "    and generate a csv file for each dataframe\n",
    "    '''\n",
    "    for key, value in dfs.items():\n",
    "        data = get_game_info(value)\n",
    "        data.to_csv(f'data_2014_to_2024/{key}_game_info.csv')\n",
    "        del data\n",
    "\n",
    "def batting_stats_to_csv(dfs):\n",
    "    for key, value in dfs.items():\n",
    "        data = get_batting_stats(value)\n",
    "        data.to_csv(f'data_2014_to_2024/{key}_batting_stats.csv')\n",
    "        del data\n",
    "\n",
    "def pitching_stats_to_csv(dfs):\n",
    "    for key, value in dfs.items():\n",
    "        data = get_pitching_stats(value)\n",
    "        data.to_csv(f'data_2014_to_2024/{key}_pitching_stats.csv')\n",
    "        del data\n"
   ]
  },
  {
   "cell_type": "code",
   "execution_count": 3,
   "metadata": {},
   "outputs": [
    {
     "name": "stdout",
     "output_type": "stream",
     "text": [
      "This is a large query, it may take a moment to complete\n"
     ]
    },
    {
     "name": "stderr",
     "output_type": "stream",
     "text": [
      "100%|██████████| 191/191 [00:40<00:00,  4.70it/s]\n"
     ]
    },
    {
     "name": "stdout",
     "output_type": "stream",
     "text": [
      "game count of season 2014: 2533\n",
      "This is a large query, it may take a moment to complete\n"
     ]
    },
    {
     "name": "stderr",
     "output_type": "stream",
     "text": [
      "100%|██████████| 183/183 [00:38<00:00,  4.74it/s]\n"
     ]
    },
    {
     "name": "stdout",
     "output_type": "stream",
     "text": [
      "game count of season 2015: 2429\n",
      "This is a large query, it may take a moment to complete\n"
     ]
    },
    {
     "name": "stderr",
     "output_type": "stream",
     "text": [
      "100%|██████████| 183/183 [00:38<00:00,  4.72it/s]\n"
     ]
    },
    {
     "name": "stdout",
     "output_type": "stream",
     "text": [
      "game count of season 2016: 2429\n",
      "This is a large query, it may take a moment to complete\n"
     ]
    },
    {
     "name": "stderr",
     "output_type": "stream",
     "text": [
      "100%|██████████| 183/183 [00:39<00:00,  4.67it/s]\n"
     ]
    },
    {
     "name": "stdout",
     "output_type": "stream",
     "text": [
      "game count of season 2017: 2430\n",
      "This is a large query, it may take a moment to complete\n"
     ]
    },
    {
     "name": "stderr",
     "output_type": "stream",
     "text": [
      "100%|██████████| 186/186 [00:39<00:00,  4.65it/s]\n"
     ]
    },
    {
     "name": "stdout",
     "output_type": "stream",
     "text": [
      "game count of season 2018: 2429\n",
      "This is a large query, it may take a moment to complete\n"
     ]
    },
    {
     "name": "stderr",
     "output_type": "stream",
     "text": [
      "100%|██████████| 194/194 [00:42<00:00,  4.57it/s]\n"
     ]
    },
    {
     "name": "stdout",
     "output_type": "stream",
     "text": [
      "game count of season 2019: 2527\n",
      "This is a large query, it may take a moment to complete\n"
     ]
    },
    {
     "name": "stderr",
     "output_type": "stream",
     "text": [
      "100%|██████████| 186/186 [00:40<00:00,  4.55it/s]\n"
     ]
    },
    {
     "name": "stdout",
     "output_type": "stream",
     "text": [
      "game count of season 2021: 2429\n",
      "This is a large query, it may take a moment to complete\n"
     ]
    },
    {
     "name": "stderr",
     "output_type": "stream",
     "text": [
      "100%|██████████| 182/182 [00:40<00:00,  4.52it/s]\n"
     ]
    },
    {
     "name": "stdout",
     "output_type": "stream",
     "text": [
      "game count of season 2022: 2430\n",
      "This is a large query, it may take a moment to complete\n"
     ]
    },
    {
     "name": "stderr",
     "output_type": "stream",
     "text": [
      "100%|██████████| 186/186 [00:42<00:00,  4.43it/s]\n"
     ]
    },
    {
     "name": "stdout",
     "output_type": "stream",
     "text": [
      "game count of season 2023: 2430\n",
      "This is a large query, it may take a moment to complete\n"
     ]
    },
    {
     "name": "stderr",
     "output_type": "stream",
     "text": [
      "100%|██████████| 194/194 [00:44<00:00,  4.39it/s]\n"
     ]
    },
    {
     "name": "stdout",
     "output_type": "stream",
     "text": [
      "game count of season 2024: 2515\n",
      "CPU times: user 6min 45s, sys: 10min 11s, total: 16min 56s\n",
      "Wall time: 9min 31s\n"
     ]
    }
   ],
   "source": [
    "%%time\n",
    "# get pitch level data from season 2014 to 2024\n",
    "dfs = {}\n",
    "seasons = np.arange(2014,2025)\n",
    "for season in seasons:\n",
    "    if season == 2020: \n",
    "        continue\n",
    "    else:\n",
    "        this_df = get_pitch_level_data(season)\n",
    "        dfs[f'df_{season}'] = this_df\n",
    "        game_count = this_df['game_pk'].nunique()\n",
    "        print(f'game count of season {season}: {game_count}')"
   ]
  },
  {
   "cell_type": "code",
   "execution_count": 4,
   "metadata": {},
   "outputs": [
    {
     "name": "stderr",
     "output_type": "stream",
     "text": [
      "/var/folders/4f/yqk707nn61d0n9l9qmlg7f4w0000gn/T/ipykernel_92129/1761772045.py:50: DeprecationWarning: DataFrameGroupBy.apply operated on the grouping columns. This behavior is deprecated, and in a future version of pandas the grouping columns will be excluded from the operation. Either pass `include_groups=False` to exclude the groupings or explicitly select the grouping columns after groupby to silence this warning.\n",
      "  data = df.groupby('game_pk',sort=False).apply(lambda group: pd.Series({\n",
      "/var/folders/4f/yqk707nn61d0n9l9qmlg7f4w0000gn/T/ipykernel_92129/1761772045.py:63: DeprecationWarning: DataFrameGroupBy.apply operated on the grouping columns. This behavior is deprecated, and in a future version of pandas the grouping columns will be excluded from the operation. Either pass `include_groups=False` to exclude the groupings or explicitly select the grouping columns after groupby to silence this warning.\n",
      "  away_batters = df.groupby('game_pk',sort=False).apply(get_away_batting_order)\n",
      "/var/folders/4f/yqk707nn61d0n9l9qmlg7f4w0000gn/T/ipykernel_92129/1761772045.py:64: DeprecationWarning: DataFrameGroupBy.apply operated on the grouping columns. This behavior is deprecated, and in a future version of pandas the grouping columns will be excluded from the operation. Either pass `include_groups=False` to exclude the groupings or explicitly select the grouping columns after groupby to silence this warning.\n",
      "  home_batters = df.groupby('game_pk',sort=False).apply(get_home_batting_order)\n",
      "/var/folders/4f/yqk707nn61d0n9l9qmlg7f4w0000gn/T/ipykernel_92129/1761772045.py:50: DeprecationWarning: DataFrameGroupBy.apply operated on the grouping columns. This behavior is deprecated, and in a future version of pandas the grouping columns will be excluded from the operation. Either pass `include_groups=False` to exclude the groupings or explicitly select the grouping columns after groupby to silence this warning.\n",
      "  data = df.groupby('game_pk',sort=False).apply(lambda group: pd.Series({\n",
      "/var/folders/4f/yqk707nn61d0n9l9qmlg7f4w0000gn/T/ipykernel_92129/1761772045.py:63: DeprecationWarning: DataFrameGroupBy.apply operated on the grouping columns. This behavior is deprecated, and in a future version of pandas the grouping columns will be excluded from the operation. Either pass `include_groups=False` to exclude the groupings or explicitly select the grouping columns after groupby to silence this warning.\n",
      "  away_batters = df.groupby('game_pk',sort=False).apply(get_away_batting_order)\n",
      "/var/folders/4f/yqk707nn61d0n9l9qmlg7f4w0000gn/T/ipykernel_92129/1761772045.py:64: DeprecationWarning: DataFrameGroupBy.apply operated on the grouping columns. This behavior is deprecated, and in a future version of pandas the grouping columns will be excluded from the operation. Either pass `include_groups=False` to exclude the groupings or explicitly select the grouping columns after groupby to silence this warning.\n",
      "  home_batters = df.groupby('game_pk',sort=False).apply(get_home_batting_order)\n",
      "/var/folders/4f/yqk707nn61d0n9l9qmlg7f4w0000gn/T/ipykernel_92129/1761772045.py:50: DeprecationWarning: DataFrameGroupBy.apply operated on the grouping columns. This behavior is deprecated, and in a future version of pandas the grouping columns will be excluded from the operation. Either pass `include_groups=False` to exclude the groupings or explicitly select the grouping columns after groupby to silence this warning.\n",
      "  data = df.groupby('game_pk',sort=False).apply(lambda group: pd.Series({\n",
      "/var/folders/4f/yqk707nn61d0n9l9qmlg7f4w0000gn/T/ipykernel_92129/1761772045.py:63: DeprecationWarning: DataFrameGroupBy.apply operated on the grouping columns. This behavior is deprecated, and in a future version of pandas the grouping columns will be excluded from the operation. Either pass `include_groups=False` to exclude the groupings or explicitly select the grouping columns after groupby to silence this warning.\n",
      "  away_batters = df.groupby('game_pk',sort=False).apply(get_away_batting_order)\n",
      "/var/folders/4f/yqk707nn61d0n9l9qmlg7f4w0000gn/T/ipykernel_92129/1761772045.py:64: DeprecationWarning: DataFrameGroupBy.apply operated on the grouping columns. This behavior is deprecated, and in a future version of pandas the grouping columns will be excluded from the operation. Either pass `include_groups=False` to exclude the groupings or explicitly select the grouping columns after groupby to silence this warning.\n",
      "  home_batters = df.groupby('game_pk',sort=False).apply(get_home_batting_order)\n",
      "/var/folders/4f/yqk707nn61d0n9l9qmlg7f4w0000gn/T/ipykernel_92129/1761772045.py:50: DeprecationWarning: DataFrameGroupBy.apply operated on the grouping columns. This behavior is deprecated, and in a future version of pandas the grouping columns will be excluded from the operation. Either pass `include_groups=False` to exclude the groupings or explicitly select the grouping columns after groupby to silence this warning.\n",
      "  data = df.groupby('game_pk',sort=False).apply(lambda group: pd.Series({\n",
      "/var/folders/4f/yqk707nn61d0n9l9qmlg7f4w0000gn/T/ipykernel_92129/1761772045.py:63: DeprecationWarning: DataFrameGroupBy.apply operated on the grouping columns. This behavior is deprecated, and in a future version of pandas the grouping columns will be excluded from the operation. Either pass `include_groups=False` to exclude the groupings or explicitly select the grouping columns after groupby to silence this warning.\n",
      "  away_batters = df.groupby('game_pk',sort=False).apply(get_away_batting_order)\n",
      "/var/folders/4f/yqk707nn61d0n9l9qmlg7f4w0000gn/T/ipykernel_92129/1761772045.py:64: DeprecationWarning: DataFrameGroupBy.apply operated on the grouping columns. This behavior is deprecated, and in a future version of pandas the grouping columns will be excluded from the operation. Either pass `include_groups=False` to exclude the groupings or explicitly select the grouping columns after groupby to silence this warning.\n",
      "  home_batters = df.groupby('game_pk',sort=False).apply(get_home_batting_order)\n",
      "/var/folders/4f/yqk707nn61d0n9l9qmlg7f4w0000gn/T/ipykernel_92129/1761772045.py:50: DeprecationWarning: DataFrameGroupBy.apply operated on the grouping columns. This behavior is deprecated, and in a future version of pandas the grouping columns will be excluded from the operation. Either pass `include_groups=False` to exclude the groupings or explicitly select the grouping columns after groupby to silence this warning.\n",
      "  data = df.groupby('game_pk',sort=False).apply(lambda group: pd.Series({\n",
      "/var/folders/4f/yqk707nn61d0n9l9qmlg7f4w0000gn/T/ipykernel_92129/1761772045.py:63: DeprecationWarning: DataFrameGroupBy.apply operated on the grouping columns. This behavior is deprecated, and in a future version of pandas the grouping columns will be excluded from the operation. Either pass `include_groups=False` to exclude the groupings or explicitly select the grouping columns after groupby to silence this warning.\n",
      "  away_batters = df.groupby('game_pk',sort=False).apply(get_away_batting_order)\n",
      "/var/folders/4f/yqk707nn61d0n9l9qmlg7f4w0000gn/T/ipykernel_92129/1761772045.py:64: DeprecationWarning: DataFrameGroupBy.apply operated on the grouping columns. This behavior is deprecated, and in a future version of pandas the grouping columns will be excluded from the operation. Either pass `include_groups=False` to exclude the groupings or explicitly select the grouping columns after groupby to silence this warning.\n",
      "  home_batters = df.groupby('game_pk',sort=False).apply(get_home_batting_order)\n",
      "/var/folders/4f/yqk707nn61d0n9l9qmlg7f4w0000gn/T/ipykernel_92129/1761772045.py:50: DeprecationWarning: DataFrameGroupBy.apply operated on the grouping columns. This behavior is deprecated, and in a future version of pandas the grouping columns will be excluded from the operation. Either pass `include_groups=False` to exclude the groupings or explicitly select the grouping columns after groupby to silence this warning.\n",
      "  data = df.groupby('game_pk',sort=False).apply(lambda group: pd.Series({\n",
      "/var/folders/4f/yqk707nn61d0n9l9qmlg7f4w0000gn/T/ipykernel_92129/1761772045.py:63: DeprecationWarning: DataFrameGroupBy.apply operated on the grouping columns. This behavior is deprecated, and in a future version of pandas the grouping columns will be excluded from the operation. Either pass `include_groups=False` to exclude the groupings or explicitly select the grouping columns after groupby to silence this warning.\n",
      "  away_batters = df.groupby('game_pk',sort=False).apply(get_away_batting_order)\n",
      "/var/folders/4f/yqk707nn61d0n9l9qmlg7f4w0000gn/T/ipykernel_92129/1761772045.py:64: DeprecationWarning: DataFrameGroupBy.apply operated on the grouping columns. This behavior is deprecated, and in a future version of pandas the grouping columns will be excluded from the operation. Either pass `include_groups=False` to exclude the groupings or explicitly select the grouping columns after groupby to silence this warning.\n",
      "  home_batters = df.groupby('game_pk',sort=False).apply(get_home_batting_order)\n",
      "/var/folders/4f/yqk707nn61d0n9l9qmlg7f4w0000gn/T/ipykernel_92129/1761772045.py:50: DeprecationWarning: DataFrameGroupBy.apply operated on the grouping columns. This behavior is deprecated, and in a future version of pandas the grouping columns will be excluded from the operation. Either pass `include_groups=False` to exclude the groupings or explicitly select the grouping columns after groupby to silence this warning.\n",
      "  data = df.groupby('game_pk',sort=False).apply(lambda group: pd.Series({\n",
      "/var/folders/4f/yqk707nn61d0n9l9qmlg7f4w0000gn/T/ipykernel_92129/1761772045.py:63: DeprecationWarning: DataFrameGroupBy.apply operated on the grouping columns. This behavior is deprecated, and in a future version of pandas the grouping columns will be excluded from the operation. Either pass `include_groups=False` to exclude the groupings or explicitly select the grouping columns after groupby to silence this warning.\n",
      "  away_batters = df.groupby('game_pk',sort=False).apply(get_away_batting_order)\n",
      "/var/folders/4f/yqk707nn61d0n9l9qmlg7f4w0000gn/T/ipykernel_92129/1761772045.py:64: DeprecationWarning: DataFrameGroupBy.apply operated on the grouping columns. This behavior is deprecated, and in a future version of pandas the grouping columns will be excluded from the operation. Either pass `include_groups=False` to exclude the groupings or explicitly select the grouping columns after groupby to silence this warning.\n",
      "  home_batters = df.groupby('game_pk',sort=False).apply(get_home_batting_order)\n",
      "/var/folders/4f/yqk707nn61d0n9l9qmlg7f4w0000gn/T/ipykernel_92129/1761772045.py:50: DeprecationWarning: DataFrameGroupBy.apply operated on the grouping columns. This behavior is deprecated, and in a future version of pandas the grouping columns will be excluded from the operation. Either pass `include_groups=False` to exclude the groupings or explicitly select the grouping columns after groupby to silence this warning.\n",
      "  data = df.groupby('game_pk',sort=False).apply(lambda group: pd.Series({\n",
      "/var/folders/4f/yqk707nn61d0n9l9qmlg7f4w0000gn/T/ipykernel_92129/1761772045.py:63: DeprecationWarning: DataFrameGroupBy.apply operated on the grouping columns. This behavior is deprecated, and in a future version of pandas the grouping columns will be excluded from the operation. Either pass `include_groups=False` to exclude the groupings or explicitly select the grouping columns after groupby to silence this warning.\n",
      "  away_batters = df.groupby('game_pk',sort=False).apply(get_away_batting_order)\n",
      "/var/folders/4f/yqk707nn61d0n9l9qmlg7f4w0000gn/T/ipykernel_92129/1761772045.py:64: DeprecationWarning: DataFrameGroupBy.apply operated on the grouping columns. This behavior is deprecated, and in a future version of pandas the grouping columns will be excluded from the operation. Either pass `include_groups=False` to exclude the groupings or explicitly select the grouping columns after groupby to silence this warning.\n",
      "  home_batters = df.groupby('game_pk',sort=False).apply(get_home_batting_order)\n",
      "/var/folders/4f/yqk707nn61d0n9l9qmlg7f4w0000gn/T/ipykernel_92129/1761772045.py:50: DeprecationWarning: DataFrameGroupBy.apply operated on the grouping columns. This behavior is deprecated, and in a future version of pandas the grouping columns will be excluded from the operation. Either pass `include_groups=False` to exclude the groupings or explicitly select the grouping columns after groupby to silence this warning.\n",
      "  data = df.groupby('game_pk',sort=False).apply(lambda group: pd.Series({\n",
      "/var/folders/4f/yqk707nn61d0n9l9qmlg7f4w0000gn/T/ipykernel_92129/1761772045.py:63: DeprecationWarning: DataFrameGroupBy.apply operated on the grouping columns. This behavior is deprecated, and in a future version of pandas the grouping columns will be excluded from the operation. Either pass `include_groups=False` to exclude the groupings or explicitly select the grouping columns after groupby to silence this warning.\n",
      "  away_batters = df.groupby('game_pk',sort=False).apply(get_away_batting_order)\n",
      "/var/folders/4f/yqk707nn61d0n9l9qmlg7f4w0000gn/T/ipykernel_92129/1761772045.py:64: DeprecationWarning: DataFrameGroupBy.apply operated on the grouping columns. This behavior is deprecated, and in a future version of pandas the grouping columns will be excluded from the operation. Either pass `include_groups=False` to exclude the groupings or explicitly select the grouping columns after groupby to silence this warning.\n",
      "  home_batters = df.groupby('game_pk',sort=False).apply(get_home_batting_order)\n",
      "/var/folders/4f/yqk707nn61d0n9l9qmlg7f4w0000gn/T/ipykernel_92129/1761772045.py:50: DeprecationWarning: DataFrameGroupBy.apply operated on the grouping columns. This behavior is deprecated, and in a future version of pandas the grouping columns will be excluded from the operation. Either pass `include_groups=False` to exclude the groupings or explicitly select the grouping columns after groupby to silence this warning.\n",
      "  data = df.groupby('game_pk',sort=False).apply(lambda group: pd.Series({\n",
      "/var/folders/4f/yqk707nn61d0n9l9qmlg7f4w0000gn/T/ipykernel_92129/1761772045.py:63: DeprecationWarning: DataFrameGroupBy.apply operated on the grouping columns. This behavior is deprecated, and in a future version of pandas the grouping columns will be excluded from the operation. Either pass `include_groups=False` to exclude the groupings or explicitly select the grouping columns after groupby to silence this warning.\n",
      "  away_batters = df.groupby('game_pk',sort=False).apply(get_away_batting_order)\n"
     ]
    },
    {
     "name": "stdout",
     "output_type": "stream",
     "text": [
      "CPU times: user 1min 7s, sys: 15.1 s, total: 1min 22s\n",
      "Wall time: 1min 39s\n"
     ]
    },
    {
     "name": "stderr",
     "output_type": "stream",
     "text": [
      "/var/folders/4f/yqk707nn61d0n9l9qmlg7f4w0000gn/T/ipykernel_92129/1761772045.py:64: DeprecationWarning: DataFrameGroupBy.apply operated on the grouping columns. This behavior is deprecated, and in a future version of pandas the grouping columns will be excluded from the operation. Either pass `include_groups=False` to exclude the groupings or explicitly select the grouping columns after groupby to silence this warning.\n",
      "  home_batters = df.groupby('game_pk',sort=False).apply(get_home_batting_order)\n"
     ]
    }
   ],
   "source": [
    "%%time\n",
    "# generate csv files of game info\n",
    "game_info_to_csv(dfs)"
   ]
  },
  {
   "cell_type": "code",
   "execution_count": 5,
   "metadata": {},
   "outputs": [
    {
     "name": "stderr",
     "output_type": "stream",
     "text": [
      "/var/folders/4f/yqk707nn61d0n9l9qmlg7f4w0000gn/T/ipykernel_92129/1761772045.py:50: DeprecationWarning: DataFrameGroupBy.apply operated on the grouping columns. This behavior is deprecated, and in a future version of pandas the grouping columns will be excluded from the operation. Either pass `include_groups=False` to exclude the groupings or explicitly select the grouping columns after groupby to silence this warning.\n",
      "  data = df.groupby('game_pk',sort=False).apply(lambda group: pd.Series({\n",
      "/var/folders/4f/yqk707nn61d0n9l9qmlg7f4w0000gn/T/ipykernel_92129/1761772045.py:63: DeprecationWarning: DataFrameGroupBy.apply operated on the grouping columns. This behavior is deprecated, and in a future version of pandas the grouping columns will be excluded from the operation. Either pass `include_groups=False` to exclude the groupings or explicitly select the grouping columns after groupby to silence this warning.\n",
      "  away_batters = df.groupby('game_pk',sort=False).apply(get_away_batting_order)\n",
      "/var/folders/4f/yqk707nn61d0n9l9qmlg7f4w0000gn/T/ipykernel_92129/1761772045.py:64: DeprecationWarning: DataFrameGroupBy.apply operated on the grouping columns. This behavior is deprecated, and in a future version of pandas the grouping columns will be excluded from the operation. Either pass `include_groups=False` to exclude the groupings or explicitly select the grouping columns after groupby to silence this warning.\n",
      "  home_batters = df.groupby('game_pk',sort=False).apply(get_home_batting_order)\n",
      "/var/folders/4f/yqk707nn61d0n9l9qmlg7f4w0000gn/T/ipykernel_92129/1761772045.py:120: DeprecationWarning: DataFrameGroupBy.apply operated on the grouping columns. This behavior is deprecated, and in a future version of pandas the grouping columns will be excluded from the operation. Either pass `include_groups=False` to exclude the groupings or explicitly select the grouping columns after groupby to silence this warning.\n",
      "  .apply(extract_batting_events))\n",
      "/var/folders/4f/yqk707nn61d0n9l9qmlg7f4w0000gn/T/ipykernel_92129/1761772045.py:123: DeprecationWarning: DataFrameGroupBy.apply operated on the grouping columns. This behavior is deprecated, and in a future version of pandas the grouping columns will be excluded from the operation. Either pass `include_groups=False` to exclude the groupings or explicitly select the grouping columns after groupby to silence this warning.\n",
      "  .apply(extract_batting_events))\n",
      "/var/folders/4f/yqk707nn61d0n9l9qmlg7f4w0000gn/T/ipykernel_92129/1761772045.py:50: DeprecationWarning: DataFrameGroupBy.apply operated on the grouping columns. This behavior is deprecated, and in a future version of pandas the grouping columns will be excluded from the operation. Either pass `include_groups=False` to exclude the groupings or explicitly select the grouping columns after groupby to silence this warning.\n",
      "  data = df.groupby('game_pk',sort=False).apply(lambda group: pd.Series({\n",
      "/var/folders/4f/yqk707nn61d0n9l9qmlg7f4w0000gn/T/ipykernel_92129/1761772045.py:63: DeprecationWarning: DataFrameGroupBy.apply operated on the grouping columns. This behavior is deprecated, and in a future version of pandas the grouping columns will be excluded from the operation. Either pass `include_groups=False` to exclude the groupings or explicitly select the grouping columns after groupby to silence this warning.\n",
      "  away_batters = df.groupby('game_pk',sort=False).apply(get_away_batting_order)\n",
      "/var/folders/4f/yqk707nn61d0n9l9qmlg7f4w0000gn/T/ipykernel_92129/1761772045.py:64: DeprecationWarning: DataFrameGroupBy.apply operated on the grouping columns. This behavior is deprecated, and in a future version of pandas the grouping columns will be excluded from the operation. Either pass `include_groups=False` to exclude the groupings or explicitly select the grouping columns after groupby to silence this warning.\n",
      "  home_batters = df.groupby('game_pk',sort=False).apply(get_home_batting_order)\n",
      "/var/folders/4f/yqk707nn61d0n9l9qmlg7f4w0000gn/T/ipykernel_92129/1761772045.py:120: DeprecationWarning: DataFrameGroupBy.apply operated on the grouping columns. This behavior is deprecated, and in a future version of pandas the grouping columns will be excluded from the operation. Either pass `include_groups=False` to exclude the groupings or explicitly select the grouping columns after groupby to silence this warning.\n",
      "  .apply(extract_batting_events))\n",
      "/var/folders/4f/yqk707nn61d0n9l9qmlg7f4w0000gn/T/ipykernel_92129/1761772045.py:123: DeprecationWarning: DataFrameGroupBy.apply operated on the grouping columns. This behavior is deprecated, and in a future version of pandas the grouping columns will be excluded from the operation. Either pass `include_groups=False` to exclude the groupings or explicitly select the grouping columns after groupby to silence this warning.\n",
      "  .apply(extract_batting_events))\n",
      "/var/folders/4f/yqk707nn61d0n9l9qmlg7f4w0000gn/T/ipykernel_92129/1761772045.py:50: DeprecationWarning: DataFrameGroupBy.apply operated on the grouping columns. This behavior is deprecated, and in a future version of pandas the grouping columns will be excluded from the operation. Either pass `include_groups=False` to exclude the groupings or explicitly select the grouping columns after groupby to silence this warning.\n",
      "  data = df.groupby('game_pk',sort=False).apply(lambda group: pd.Series({\n",
      "/var/folders/4f/yqk707nn61d0n9l9qmlg7f4w0000gn/T/ipykernel_92129/1761772045.py:63: DeprecationWarning: DataFrameGroupBy.apply operated on the grouping columns. This behavior is deprecated, and in a future version of pandas the grouping columns will be excluded from the operation. Either pass `include_groups=False` to exclude the groupings or explicitly select the grouping columns after groupby to silence this warning.\n",
      "  away_batters = df.groupby('game_pk',sort=False).apply(get_away_batting_order)\n",
      "/var/folders/4f/yqk707nn61d0n9l9qmlg7f4w0000gn/T/ipykernel_92129/1761772045.py:64: DeprecationWarning: DataFrameGroupBy.apply operated on the grouping columns. This behavior is deprecated, and in a future version of pandas the grouping columns will be excluded from the operation. Either pass `include_groups=False` to exclude the groupings or explicitly select the grouping columns after groupby to silence this warning.\n",
      "  home_batters = df.groupby('game_pk',sort=False).apply(get_home_batting_order)\n",
      "/var/folders/4f/yqk707nn61d0n9l9qmlg7f4w0000gn/T/ipykernel_92129/1761772045.py:120: DeprecationWarning: DataFrameGroupBy.apply operated on the grouping columns. This behavior is deprecated, and in a future version of pandas the grouping columns will be excluded from the operation. Either pass `include_groups=False` to exclude the groupings or explicitly select the grouping columns after groupby to silence this warning.\n",
      "  .apply(extract_batting_events))\n",
      "/var/folders/4f/yqk707nn61d0n9l9qmlg7f4w0000gn/T/ipykernel_92129/1761772045.py:123: DeprecationWarning: DataFrameGroupBy.apply operated on the grouping columns. This behavior is deprecated, and in a future version of pandas the grouping columns will be excluded from the operation. Either pass `include_groups=False` to exclude the groupings or explicitly select the grouping columns after groupby to silence this warning.\n",
      "  .apply(extract_batting_events))\n",
      "/var/folders/4f/yqk707nn61d0n9l9qmlg7f4w0000gn/T/ipykernel_92129/1761772045.py:50: DeprecationWarning: DataFrameGroupBy.apply operated on the grouping columns. This behavior is deprecated, and in a future version of pandas the grouping columns will be excluded from the operation. Either pass `include_groups=False` to exclude the groupings or explicitly select the grouping columns after groupby to silence this warning.\n",
      "  data = df.groupby('game_pk',sort=False).apply(lambda group: pd.Series({\n",
      "/var/folders/4f/yqk707nn61d0n9l9qmlg7f4w0000gn/T/ipykernel_92129/1761772045.py:63: DeprecationWarning: DataFrameGroupBy.apply operated on the grouping columns. This behavior is deprecated, and in a future version of pandas the grouping columns will be excluded from the operation. Either pass `include_groups=False` to exclude the groupings or explicitly select the grouping columns after groupby to silence this warning.\n",
      "  away_batters = df.groupby('game_pk',sort=False).apply(get_away_batting_order)\n",
      "/var/folders/4f/yqk707nn61d0n9l9qmlg7f4w0000gn/T/ipykernel_92129/1761772045.py:64: DeprecationWarning: DataFrameGroupBy.apply operated on the grouping columns. This behavior is deprecated, and in a future version of pandas the grouping columns will be excluded from the operation. Either pass `include_groups=False` to exclude the groupings or explicitly select the grouping columns after groupby to silence this warning.\n",
      "  home_batters = df.groupby('game_pk',sort=False).apply(get_home_batting_order)\n",
      "/var/folders/4f/yqk707nn61d0n9l9qmlg7f4w0000gn/T/ipykernel_92129/1761772045.py:120: DeprecationWarning: DataFrameGroupBy.apply operated on the grouping columns. This behavior is deprecated, and in a future version of pandas the grouping columns will be excluded from the operation. Either pass `include_groups=False` to exclude the groupings or explicitly select the grouping columns after groupby to silence this warning.\n",
      "  .apply(extract_batting_events))\n",
      "/var/folders/4f/yqk707nn61d0n9l9qmlg7f4w0000gn/T/ipykernel_92129/1761772045.py:123: DeprecationWarning: DataFrameGroupBy.apply operated on the grouping columns. This behavior is deprecated, and in a future version of pandas the grouping columns will be excluded from the operation. Either pass `include_groups=False` to exclude the groupings or explicitly select the grouping columns after groupby to silence this warning.\n",
      "  .apply(extract_batting_events))\n",
      "/var/folders/4f/yqk707nn61d0n9l9qmlg7f4w0000gn/T/ipykernel_92129/1761772045.py:50: DeprecationWarning: DataFrameGroupBy.apply operated on the grouping columns. This behavior is deprecated, and in a future version of pandas the grouping columns will be excluded from the operation. Either pass `include_groups=False` to exclude the groupings or explicitly select the grouping columns after groupby to silence this warning.\n",
      "  data = df.groupby('game_pk',sort=False).apply(lambda group: pd.Series({\n",
      "/var/folders/4f/yqk707nn61d0n9l9qmlg7f4w0000gn/T/ipykernel_92129/1761772045.py:63: DeprecationWarning: DataFrameGroupBy.apply operated on the grouping columns. This behavior is deprecated, and in a future version of pandas the grouping columns will be excluded from the operation. Either pass `include_groups=False` to exclude the groupings or explicitly select the grouping columns after groupby to silence this warning.\n",
      "  away_batters = df.groupby('game_pk',sort=False).apply(get_away_batting_order)\n",
      "/var/folders/4f/yqk707nn61d0n9l9qmlg7f4w0000gn/T/ipykernel_92129/1761772045.py:64: DeprecationWarning: DataFrameGroupBy.apply operated on the grouping columns. This behavior is deprecated, and in a future version of pandas the grouping columns will be excluded from the operation. Either pass `include_groups=False` to exclude the groupings or explicitly select the grouping columns after groupby to silence this warning.\n",
      "  home_batters = df.groupby('game_pk',sort=False).apply(get_home_batting_order)\n",
      "/var/folders/4f/yqk707nn61d0n9l9qmlg7f4w0000gn/T/ipykernel_92129/1761772045.py:120: DeprecationWarning: DataFrameGroupBy.apply operated on the grouping columns. This behavior is deprecated, and in a future version of pandas the grouping columns will be excluded from the operation. Either pass `include_groups=False` to exclude the groupings or explicitly select the grouping columns after groupby to silence this warning.\n",
      "  .apply(extract_batting_events))\n",
      "/var/folders/4f/yqk707nn61d0n9l9qmlg7f4w0000gn/T/ipykernel_92129/1761772045.py:123: DeprecationWarning: DataFrameGroupBy.apply operated on the grouping columns. This behavior is deprecated, and in a future version of pandas the grouping columns will be excluded from the operation. Either pass `include_groups=False` to exclude the groupings or explicitly select the grouping columns after groupby to silence this warning.\n",
      "  .apply(extract_batting_events))\n",
      "/var/folders/4f/yqk707nn61d0n9l9qmlg7f4w0000gn/T/ipykernel_92129/1761772045.py:50: DeprecationWarning: DataFrameGroupBy.apply operated on the grouping columns. This behavior is deprecated, and in a future version of pandas the grouping columns will be excluded from the operation. Either pass `include_groups=False` to exclude the groupings or explicitly select the grouping columns after groupby to silence this warning.\n",
      "  data = df.groupby('game_pk',sort=False).apply(lambda group: pd.Series({\n",
      "/var/folders/4f/yqk707nn61d0n9l9qmlg7f4w0000gn/T/ipykernel_92129/1761772045.py:63: DeprecationWarning: DataFrameGroupBy.apply operated on the grouping columns. This behavior is deprecated, and in a future version of pandas the grouping columns will be excluded from the operation. Either pass `include_groups=False` to exclude the groupings or explicitly select the grouping columns after groupby to silence this warning.\n",
      "  away_batters = df.groupby('game_pk',sort=False).apply(get_away_batting_order)\n",
      "/var/folders/4f/yqk707nn61d0n9l9qmlg7f4w0000gn/T/ipykernel_92129/1761772045.py:64: DeprecationWarning: DataFrameGroupBy.apply operated on the grouping columns. This behavior is deprecated, and in a future version of pandas the grouping columns will be excluded from the operation. Either pass `include_groups=False` to exclude the groupings or explicitly select the grouping columns after groupby to silence this warning.\n",
      "  home_batters = df.groupby('game_pk',sort=False).apply(get_home_batting_order)\n",
      "/var/folders/4f/yqk707nn61d0n9l9qmlg7f4w0000gn/T/ipykernel_92129/1761772045.py:120: DeprecationWarning: DataFrameGroupBy.apply operated on the grouping columns. This behavior is deprecated, and in a future version of pandas the grouping columns will be excluded from the operation. Either pass `include_groups=False` to exclude the groupings or explicitly select the grouping columns after groupby to silence this warning.\n",
      "  .apply(extract_batting_events))\n",
      "/var/folders/4f/yqk707nn61d0n9l9qmlg7f4w0000gn/T/ipykernel_92129/1761772045.py:123: DeprecationWarning: DataFrameGroupBy.apply operated on the grouping columns. This behavior is deprecated, and in a future version of pandas the grouping columns will be excluded from the operation. Either pass `include_groups=False` to exclude the groupings or explicitly select the grouping columns after groupby to silence this warning.\n",
      "  .apply(extract_batting_events))\n",
      "/var/folders/4f/yqk707nn61d0n9l9qmlg7f4w0000gn/T/ipykernel_92129/1761772045.py:50: DeprecationWarning: DataFrameGroupBy.apply operated on the grouping columns. This behavior is deprecated, and in a future version of pandas the grouping columns will be excluded from the operation. Either pass `include_groups=False` to exclude the groupings or explicitly select the grouping columns after groupby to silence this warning.\n",
      "  data = df.groupby('game_pk',sort=False).apply(lambda group: pd.Series({\n",
      "/var/folders/4f/yqk707nn61d0n9l9qmlg7f4w0000gn/T/ipykernel_92129/1761772045.py:63: DeprecationWarning: DataFrameGroupBy.apply operated on the grouping columns. This behavior is deprecated, and in a future version of pandas the grouping columns will be excluded from the operation. Either pass `include_groups=False` to exclude the groupings or explicitly select the grouping columns after groupby to silence this warning.\n",
      "  away_batters = df.groupby('game_pk',sort=False).apply(get_away_batting_order)\n",
      "/var/folders/4f/yqk707nn61d0n9l9qmlg7f4w0000gn/T/ipykernel_92129/1761772045.py:64: DeprecationWarning: DataFrameGroupBy.apply operated on the grouping columns. This behavior is deprecated, and in a future version of pandas the grouping columns will be excluded from the operation. Either pass `include_groups=False` to exclude the groupings or explicitly select the grouping columns after groupby to silence this warning.\n",
      "  home_batters = df.groupby('game_pk',sort=False).apply(get_home_batting_order)\n",
      "/var/folders/4f/yqk707nn61d0n9l9qmlg7f4w0000gn/T/ipykernel_92129/1761772045.py:120: DeprecationWarning: DataFrameGroupBy.apply operated on the grouping columns. This behavior is deprecated, and in a future version of pandas the grouping columns will be excluded from the operation. Either pass `include_groups=False` to exclude the groupings or explicitly select the grouping columns after groupby to silence this warning.\n",
      "  .apply(extract_batting_events))\n",
      "/var/folders/4f/yqk707nn61d0n9l9qmlg7f4w0000gn/T/ipykernel_92129/1761772045.py:123: DeprecationWarning: DataFrameGroupBy.apply operated on the grouping columns. This behavior is deprecated, and in a future version of pandas the grouping columns will be excluded from the operation. Either pass `include_groups=False` to exclude the groupings or explicitly select the grouping columns after groupby to silence this warning.\n",
      "  .apply(extract_batting_events))\n",
      "/var/folders/4f/yqk707nn61d0n9l9qmlg7f4w0000gn/T/ipykernel_92129/1761772045.py:50: DeprecationWarning: DataFrameGroupBy.apply operated on the grouping columns. This behavior is deprecated, and in a future version of pandas the grouping columns will be excluded from the operation. Either pass `include_groups=False` to exclude the groupings or explicitly select the grouping columns after groupby to silence this warning.\n",
      "  data = df.groupby('game_pk',sort=False).apply(lambda group: pd.Series({\n",
      "/var/folders/4f/yqk707nn61d0n9l9qmlg7f4w0000gn/T/ipykernel_92129/1761772045.py:63: DeprecationWarning: DataFrameGroupBy.apply operated on the grouping columns. This behavior is deprecated, and in a future version of pandas the grouping columns will be excluded from the operation. Either pass `include_groups=False` to exclude the groupings or explicitly select the grouping columns after groupby to silence this warning.\n",
      "  away_batters = df.groupby('game_pk',sort=False).apply(get_away_batting_order)\n",
      "/var/folders/4f/yqk707nn61d0n9l9qmlg7f4w0000gn/T/ipykernel_92129/1761772045.py:64: DeprecationWarning: DataFrameGroupBy.apply operated on the grouping columns. This behavior is deprecated, and in a future version of pandas the grouping columns will be excluded from the operation. Either pass `include_groups=False` to exclude the groupings or explicitly select the grouping columns after groupby to silence this warning.\n",
      "  home_batters = df.groupby('game_pk',sort=False).apply(get_home_batting_order)\n",
      "/var/folders/4f/yqk707nn61d0n9l9qmlg7f4w0000gn/T/ipykernel_92129/1761772045.py:120: DeprecationWarning: DataFrameGroupBy.apply operated on the grouping columns. This behavior is deprecated, and in a future version of pandas the grouping columns will be excluded from the operation. Either pass `include_groups=False` to exclude the groupings or explicitly select the grouping columns after groupby to silence this warning.\n",
      "  .apply(extract_batting_events))\n",
      "/var/folders/4f/yqk707nn61d0n9l9qmlg7f4w0000gn/T/ipykernel_92129/1761772045.py:123: DeprecationWarning: DataFrameGroupBy.apply operated on the grouping columns. This behavior is deprecated, and in a future version of pandas the grouping columns will be excluded from the operation. Either pass `include_groups=False` to exclude the groupings or explicitly select the grouping columns after groupby to silence this warning.\n",
      "  .apply(extract_batting_events))\n",
      "/var/folders/4f/yqk707nn61d0n9l9qmlg7f4w0000gn/T/ipykernel_92129/1761772045.py:50: DeprecationWarning: DataFrameGroupBy.apply operated on the grouping columns. This behavior is deprecated, and in a future version of pandas the grouping columns will be excluded from the operation. Either pass `include_groups=False` to exclude the groupings or explicitly select the grouping columns after groupby to silence this warning.\n",
      "  data = df.groupby('game_pk',sort=False).apply(lambda group: pd.Series({\n",
      "/var/folders/4f/yqk707nn61d0n9l9qmlg7f4w0000gn/T/ipykernel_92129/1761772045.py:63: DeprecationWarning: DataFrameGroupBy.apply operated on the grouping columns. This behavior is deprecated, and in a future version of pandas the grouping columns will be excluded from the operation. Either pass `include_groups=False` to exclude the groupings or explicitly select the grouping columns after groupby to silence this warning.\n",
      "  away_batters = df.groupby('game_pk',sort=False).apply(get_away_batting_order)\n",
      "/var/folders/4f/yqk707nn61d0n9l9qmlg7f4w0000gn/T/ipykernel_92129/1761772045.py:64: DeprecationWarning: DataFrameGroupBy.apply operated on the grouping columns. This behavior is deprecated, and in a future version of pandas the grouping columns will be excluded from the operation. Either pass `include_groups=False` to exclude the groupings or explicitly select the grouping columns after groupby to silence this warning.\n",
      "  home_batters = df.groupby('game_pk',sort=False).apply(get_home_batting_order)\n",
      "/var/folders/4f/yqk707nn61d0n9l9qmlg7f4w0000gn/T/ipykernel_92129/1761772045.py:120: DeprecationWarning: DataFrameGroupBy.apply operated on the grouping columns. This behavior is deprecated, and in a future version of pandas the grouping columns will be excluded from the operation. Either pass `include_groups=False` to exclude the groupings or explicitly select the grouping columns after groupby to silence this warning.\n",
      "  .apply(extract_batting_events))\n",
      "/var/folders/4f/yqk707nn61d0n9l9qmlg7f4w0000gn/T/ipykernel_92129/1761772045.py:123: DeprecationWarning: DataFrameGroupBy.apply operated on the grouping columns. This behavior is deprecated, and in a future version of pandas the grouping columns will be excluded from the operation. Either pass `include_groups=False` to exclude the groupings or explicitly select the grouping columns after groupby to silence this warning.\n",
      "  .apply(extract_batting_events))\n",
      "/var/folders/4f/yqk707nn61d0n9l9qmlg7f4w0000gn/T/ipykernel_92129/1761772045.py:50: DeprecationWarning: DataFrameGroupBy.apply operated on the grouping columns. This behavior is deprecated, and in a future version of pandas the grouping columns will be excluded from the operation. Either pass `include_groups=False` to exclude the groupings or explicitly select the grouping columns after groupby to silence this warning.\n",
      "  data = df.groupby('game_pk',sort=False).apply(lambda group: pd.Series({\n",
      "/var/folders/4f/yqk707nn61d0n9l9qmlg7f4w0000gn/T/ipykernel_92129/1761772045.py:63: DeprecationWarning: DataFrameGroupBy.apply operated on the grouping columns. This behavior is deprecated, and in a future version of pandas the grouping columns will be excluded from the operation. Either pass `include_groups=False` to exclude the groupings or explicitly select the grouping columns after groupby to silence this warning.\n",
      "  away_batters = df.groupby('game_pk',sort=False).apply(get_away_batting_order)\n",
      "/var/folders/4f/yqk707nn61d0n9l9qmlg7f4w0000gn/T/ipykernel_92129/1761772045.py:64: DeprecationWarning: DataFrameGroupBy.apply operated on the grouping columns. This behavior is deprecated, and in a future version of pandas the grouping columns will be excluded from the operation. Either pass `include_groups=False` to exclude the groupings or explicitly select the grouping columns after groupby to silence this warning.\n",
      "  home_batters = df.groupby('game_pk',sort=False).apply(get_home_batting_order)\n",
      "/var/folders/4f/yqk707nn61d0n9l9qmlg7f4w0000gn/T/ipykernel_92129/1761772045.py:120: DeprecationWarning: DataFrameGroupBy.apply operated on the grouping columns. This behavior is deprecated, and in a future version of pandas the grouping columns will be excluded from the operation. Either pass `include_groups=False` to exclude the groupings or explicitly select the grouping columns after groupby to silence this warning.\n",
      "  .apply(extract_batting_events))\n"
     ]
    },
    {
     "name": "stdout",
     "output_type": "stream",
     "text": [
      "CPU times: user 1h 46min 19s, sys: 1min 17s, total: 1h 47min 37s\n",
      "Wall time: 1h 49min 4s\n"
     ]
    },
    {
     "name": "stderr",
     "output_type": "stream",
     "text": [
      "/var/folders/4f/yqk707nn61d0n9l9qmlg7f4w0000gn/T/ipykernel_92129/1761772045.py:123: DeprecationWarning: DataFrameGroupBy.apply operated on the grouping columns. This behavior is deprecated, and in a future version of pandas the grouping columns will be excluded from the operation. Either pass `include_groups=False` to exclude the groupings or explicitly select the grouping columns after groupby to silence this warning.\n",
      "  .apply(extract_batting_events))\n"
     ]
    }
   ],
   "source": [
    "%%time\n",
    "# generate csv files of batting stats\n",
    "batting_stats_to_csv(dfs)"
   ]
  },
  {
   "cell_type": "code",
   "execution_count": 10,
   "metadata": {},
   "outputs": [
    {
     "name": "stderr",
     "output_type": "stream",
     "text": [
      "/var/folders/4f/yqk707nn61d0n9l9qmlg7f4w0000gn/T/ipykernel_16691/3243832989.py:50: DeprecationWarning: DataFrameGroupBy.apply operated on the grouping columns. This behavior is deprecated, and in a future version of pandas the grouping columns will be excluded from the operation. Either pass `include_groups=False` to exclude the groupings or explicitly select the grouping columns after groupby to silence this warning.\n",
      "  data = df.groupby('game_pk',sort=False).apply(lambda group: pd.Series({\n",
      "/var/folders/4f/yqk707nn61d0n9l9qmlg7f4w0000gn/T/ipykernel_16691/3243832989.py:63: DeprecationWarning: DataFrameGroupBy.apply operated on the grouping columns. This behavior is deprecated, and in a future version of pandas the grouping columns will be excluded from the operation. Either pass `include_groups=False` to exclude the groupings or explicitly select the grouping columns after groupby to silence this warning.\n",
      "  away_batters = df.groupby('game_pk',sort=False).apply(get_away_batting_order)\n",
      "/var/folders/4f/yqk707nn61d0n9l9qmlg7f4w0000gn/T/ipykernel_16691/3243832989.py:64: DeprecationWarning: DataFrameGroupBy.apply operated on the grouping columns. This behavior is deprecated, and in a future version of pandas the grouping columns will be excluded from the operation. Either pass `include_groups=False` to exclude the groupings or explicitly select the grouping columns after groupby to silence this warning.\n",
      "  home_batters = df.groupby('game_pk',sort=False).apply(get_home_batting_order)\n",
      "/var/folders/4f/yqk707nn61d0n9l9qmlg7f4w0000gn/T/ipykernel_16691/3243832989.py:50: DeprecationWarning: DataFrameGroupBy.apply operated on the grouping columns. This behavior is deprecated, and in a future version of pandas the grouping columns will be excluded from the operation. Either pass `include_groups=False` to exclude the groupings or explicitly select the grouping columns after groupby to silence this warning.\n",
      "  data = df.groupby('game_pk',sort=False).apply(lambda group: pd.Series({\n",
      "/var/folders/4f/yqk707nn61d0n9l9qmlg7f4w0000gn/T/ipykernel_16691/3243832989.py:63: DeprecationWarning: DataFrameGroupBy.apply operated on the grouping columns. This behavior is deprecated, and in a future version of pandas the grouping columns will be excluded from the operation. Either pass `include_groups=False` to exclude the groupings or explicitly select the grouping columns after groupby to silence this warning.\n",
      "  away_batters = df.groupby('game_pk',sort=False).apply(get_away_batting_order)\n",
      "/var/folders/4f/yqk707nn61d0n9l9qmlg7f4w0000gn/T/ipykernel_16691/3243832989.py:64: DeprecationWarning: DataFrameGroupBy.apply operated on the grouping columns. This behavior is deprecated, and in a future version of pandas the grouping columns will be excluded from the operation. Either pass `include_groups=False` to exclude the groupings or explicitly select the grouping columns after groupby to silence this warning.\n",
      "  home_batters = df.groupby('game_pk',sort=False).apply(get_home_batting_order)\n"
     ]
    },
    {
     "ename": "KeyboardInterrupt",
     "evalue": "",
     "output_type": "error",
     "traceback": [
      "\u001b[0;31m---------------------------------------------------------------------------\u001b[0m",
      "\u001b[0;31mKeyboardInterrupt\u001b[0m                         Traceback (most recent call last)",
      "File \u001b[0;32m<timed eval>:2\u001b[0m\n",
      "Cell \u001b[0;32mIn[7], line 266\u001b[0m, in \u001b[0;36mpitching_stats_to_csv\u001b[0;34m(dfs)\u001b[0m\n\u001b[1;32m    264\u001b[0m \u001b[38;5;28;01mdef\u001b[39;00m \u001b[38;5;21mpitching_stats_to_csv\u001b[39m(dfs):\n\u001b[1;32m    265\u001b[0m     \u001b[38;5;28;01mfor\u001b[39;00m key, value \u001b[38;5;129;01min\u001b[39;00m dfs\u001b[38;5;241m.\u001b[39mitems():\n\u001b[0;32m--> 266\u001b[0m         data \u001b[38;5;241m=\u001b[39m \u001b[43mget_pitching_stats\u001b[49m\u001b[43m(\u001b[49m\u001b[43mvalue\u001b[49m\u001b[43m)\u001b[49m\n\u001b[1;32m    267\u001b[0m         data\u001b[38;5;241m.\u001b[39mto_csv(\u001b[38;5;124mf\u001b[39m\u001b[38;5;124m'\u001b[39m\u001b[38;5;124mdata_2014_to_2024/\u001b[39m\u001b[38;5;132;01m{\u001b[39;00mkey\u001b[38;5;132;01m}\u001b[39;00m\u001b[38;5;124m_pitching_stats.csv\u001b[39m\u001b[38;5;124m'\u001b[39m)\n",
      "Cell \u001b[0;32mIn[7], line 232\u001b[0m, in \u001b[0;36mget_pitching_stats\u001b[0;34m(df)\u001b[0m\n\u001b[1;32m    230\u001b[0m game_pk \u001b[38;5;241m=\u001b[39m row[\u001b[38;5;124m'\u001b[39m\u001b[38;5;124mgame_pk\u001b[39m\u001b[38;5;124m'\u001b[39m]\n\u001b[1;32m    231\u001b[0m starting_pitcher \u001b[38;5;241m=\u001b[39m row[\u001b[38;5;124m'\u001b[39m\u001b[38;5;124mstarting_pitcher\u001b[39m\u001b[38;5;124m'\u001b[39m]\n\u001b[0;32m--> 232\u001b[0m n_pitches, ip, er, k, bb, h \u001b[38;5;241m=\u001b[39m \u001b[43mextract_p_stats_from_api\u001b[49m\u001b[43m(\u001b[49m\u001b[43mgame_pk\u001b[49m\u001b[43m,\u001b[49m\u001b[43mstarting_pitcher\u001b[49m\u001b[43m,\u001b[49m\u001b[43m \u001b[49m\u001b[43mis_home\u001b[49m\u001b[38;5;241;43m=\u001b[39;49m\u001b[38;5;28;43;01mTrue\u001b[39;49;00m\u001b[43m)\u001b[49m\n\u001b[1;32m    233\u001b[0m game_home\u001b[38;5;241m.\u001b[39mloc[idx,\u001b[38;5;124m'\u001b[39m\u001b[38;5;124mn_pitches\u001b[39m\u001b[38;5;124m'\u001b[39m] \u001b[38;5;241m=\u001b[39m n_pitches\n\u001b[1;32m    234\u001b[0m game_home\u001b[38;5;241m.\u001b[39mloc[idx,\u001b[38;5;124m'\u001b[39m\u001b[38;5;124mip\u001b[39m\u001b[38;5;124m'\u001b[39m] \u001b[38;5;241m=\u001b[39m ip\n",
      "Cell \u001b[0;32mIn[7], line 165\u001b[0m, in \u001b[0;36mextract_p_stats_from_api\u001b[0;34m(game_pk, pitcher_id, is_home)\u001b[0m\n\u001b[1;32m    162\u001b[0m url \u001b[38;5;241m=\u001b[39m \u001b[38;5;124mf\u001b[39m\u001b[38;5;124m'\u001b[39m\u001b[38;5;124mhttps://statsapi.mlb.com/api/v1/game/\u001b[39m\u001b[38;5;132;01m{\u001b[39;00mgame_pk\u001b[38;5;132;01m}\u001b[39;00m\u001b[38;5;124m/boxscore\u001b[39m\u001b[38;5;124m'\u001b[39m\n\u001b[1;32m    164\u001b[0m \u001b[38;5;66;03m# Make a request to the API\u001b[39;00m\n\u001b[0;32m--> 165\u001b[0m response \u001b[38;5;241m=\u001b[39m \u001b[43mrequests\u001b[49m\u001b[38;5;241;43m.\u001b[39;49m\u001b[43mget\u001b[49m\u001b[43m(\u001b[49m\u001b[43murl\u001b[49m\u001b[43m)\u001b[49m\n\u001b[1;32m    167\u001b[0m \u001b[38;5;28;01mif\u001b[39;00m is_home:\n\u001b[1;32m    168\u001b[0m     home_away \u001b[38;5;241m=\u001b[39m \u001b[38;5;124m\"\u001b[39m\u001b[38;5;124mhome\u001b[39m\u001b[38;5;124m\"\u001b[39m\n",
      "File \u001b[0;32m/opt/anaconda3/envs/cpsc330/lib/python3.10/site-packages/requests/api.py:73\u001b[0m, in \u001b[0;36mget\u001b[0;34m(url, params, **kwargs)\u001b[0m\n\u001b[1;32m     62\u001b[0m \u001b[38;5;28;01mdef\u001b[39;00m \u001b[38;5;21mget\u001b[39m(url, params\u001b[38;5;241m=\u001b[39m\u001b[38;5;28;01mNone\u001b[39;00m, \u001b[38;5;241m*\u001b[39m\u001b[38;5;241m*\u001b[39mkwargs):\n\u001b[1;32m     63\u001b[0m \u001b[38;5;250m    \u001b[39m\u001b[38;5;124mr\u001b[39m\u001b[38;5;124;03m\"\"\"Sends a GET request.\u001b[39;00m\n\u001b[1;32m     64\u001b[0m \n\u001b[1;32m     65\u001b[0m \u001b[38;5;124;03m    :param url: URL for the new :class:`Request` object.\u001b[39;00m\n\u001b[0;32m   (...)\u001b[0m\n\u001b[1;32m     70\u001b[0m \u001b[38;5;124;03m    :rtype: requests.Response\u001b[39;00m\n\u001b[1;32m     71\u001b[0m \u001b[38;5;124;03m    \"\"\"\u001b[39;00m\n\u001b[0;32m---> 73\u001b[0m     \u001b[38;5;28;01mreturn\u001b[39;00m \u001b[43mrequest\u001b[49m\u001b[43m(\u001b[49m\u001b[38;5;124;43m\"\u001b[39;49m\u001b[38;5;124;43mget\u001b[39;49m\u001b[38;5;124;43m\"\u001b[39;49m\u001b[43m,\u001b[49m\u001b[43m \u001b[49m\u001b[43murl\u001b[49m\u001b[43m,\u001b[49m\u001b[43m \u001b[49m\u001b[43mparams\u001b[49m\u001b[38;5;241;43m=\u001b[39;49m\u001b[43mparams\u001b[49m\u001b[43m,\u001b[49m\u001b[43m \u001b[49m\u001b[38;5;241;43m*\u001b[39;49m\u001b[38;5;241;43m*\u001b[39;49m\u001b[43mkwargs\u001b[49m\u001b[43m)\u001b[49m\n",
      "File \u001b[0;32m/opt/anaconda3/envs/cpsc330/lib/python3.10/site-packages/requests/api.py:59\u001b[0m, in \u001b[0;36mrequest\u001b[0;34m(method, url, **kwargs)\u001b[0m\n\u001b[1;32m     55\u001b[0m \u001b[38;5;66;03m# By using the 'with' statement we are sure the session is closed, thus we\u001b[39;00m\n\u001b[1;32m     56\u001b[0m \u001b[38;5;66;03m# avoid leaving sockets open which can trigger a ResourceWarning in some\u001b[39;00m\n\u001b[1;32m     57\u001b[0m \u001b[38;5;66;03m# cases, and look like a memory leak in others.\u001b[39;00m\n\u001b[1;32m     58\u001b[0m \u001b[38;5;28;01mwith\u001b[39;00m sessions\u001b[38;5;241m.\u001b[39mSession() \u001b[38;5;28;01mas\u001b[39;00m session:\n\u001b[0;32m---> 59\u001b[0m     \u001b[38;5;28;01mreturn\u001b[39;00m \u001b[43msession\u001b[49m\u001b[38;5;241;43m.\u001b[39;49m\u001b[43mrequest\u001b[49m\u001b[43m(\u001b[49m\u001b[43mmethod\u001b[49m\u001b[38;5;241;43m=\u001b[39;49m\u001b[43mmethod\u001b[49m\u001b[43m,\u001b[49m\u001b[43m \u001b[49m\u001b[43murl\u001b[49m\u001b[38;5;241;43m=\u001b[39;49m\u001b[43murl\u001b[49m\u001b[43m,\u001b[49m\u001b[43m \u001b[49m\u001b[38;5;241;43m*\u001b[39;49m\u001b[38;5;241;43m*\u001b[39;49m\u001b[43mkwargs\u001b[49m\u001b[43m)\u001b[49m\n",
      "File \u001b[0;32m/opt/anaconda3/envs/cpsc330/lib/python3.10/site-packages/requests/sessions.py:589\u001b[0m, in \u001b[0;36mSession.request\u001b[0;34m(self, method, url, params, data, headers, cookies, files, auth, timeout, allow_redirects, proxies, hooks, stream, verify, cert, json)\u001b[0m\n\u001b[1;32m    584\u001b[0m send_kwargs \u001b[38;5;241m=\u001b[39m {\n\u001b[1;32m    585\u001b[0m     \u001b[38;5;124m\"\u001b[39m\u001b[38;5;124mtimeout\u001b[39m\u001b[38;5;124m\"\u001b[39m: timeout,\n\u001b[1;32m    586\u001b[0m     \u001b[38;5;124m\"\u001b[39m\u001b[38;5;124mallow_redirects\u001b[39m\u001b[38;5;124m\"\u001b[39m: allow_redirects,\n\u001b[1;32m    587\u001b[0m }\n\u001b[1;32m    588\u001b[0m send_kwargs\u001b[38;5;241m.\u001b[39mupdate(settings)\n\u001b[0;32m--> 589\u001b[0m resp \u001b[38;5;241m=\u001b[39m \u001b[38;5;28;43mself\u001b[39;49m\u001b[38;5;241;43m.\u001b[39;49m\u001b[43msend\u001b[49m\u001b[43m(\u001b[49m\u001b[43mprep\u001b[49m\u001b[43m,\u001b[49m\u001b[43m \u001b[49m\u001b[38;5;241;43m*\u001b[39;49m\u001b[38;5;241;43m*\u001b[39;49m\u001b[43msend_kwargs\u001b[49m\u001b[43m)\u001b[49m\n\u001b[1;32m    591\u001b[0m \u001b[38;5;28;01mreturn\u001b[39;00m resp\n",
      "File \u001b[0;32m/opt/anaconda3/envs/cpsc330/lib/python3.10/site-packages/requests/sessions.py:703\u001b[0m, in \u001b[0;36mSession.send\u001b[0;34m(self, request, **kwargs)\u001b[0m\n\u001b[1;32m    700\u001b[0m start \u001b[38;5;241m=\u001b[39m preferred_clock()\n\u001b[1;32m    702\u001b[0m \u001b[38;5;66;03m# Send the request\u001b[39;00m\n\u001b[0;32m--> 703\u001b[0m r \u001b[38;5;241m=\u001b[39m \u001b[43madapter\u001b[49m\u001b[38;5;241;43m.\u001b[39;49m\u001b[43msend\u001b[49m\u001b[43m(\u001b[49m\u001b[43mrequest\u001b[49m\u001b[43m,\u001b[49m\u001b[43m \u001b[49m\u001b[38;5;241;43m*\u001b[39;49m\u001b[38;5;241;43m*\u001b[39;49m\u001b[43mkwargs\u001b[49m\u001b[43m)\u001b[49m\n\u001b[1;32m    705\u001b[0m \u001b[38;5;66;03m# Total elapsed time of the request (approximately)\u001b[39;00m\n\u001b[1;32m    706\u001b[0m elapsed \u001b[38;5;241m=\u001b[39m preferred_clock() \u001b[38;5;241m-\u001b[39m start\n",
      "File \u001b[0;32m/opt/anaconda3/envs/cpsc330/lib/python3.10/site-packages/requests/adapters.py:486\u001b[0m, in \u001b[0;36mHTTPAdapter.send\u001b[0;34m(self, request, stream, timeout, verify, cert, proxies)\u001b[0m\n\u001b[1;32m    483\u001b[0m     timeout \u001b[38;5;241m=\u001b[39m TimeoutSauce(connect\u001b[38;5;241m=\u001b[39mtimeout, read\u001b[38;5;241m=\u001b[39mtimeout)\n\u001b[1;32m    485\u001b[0m \u001b[38;5;28;01mtry\u001b[39;00m:\n\u001b[0;32m--> 486\u001b[0m     resp \u001b[38;5;241m=\u001b[39m \u001b[43mconn\u001b[49m\u001b[38;5;241;43m.\u001b[39;49m\u001b[43murlopen\u001b[49m\u001b[43m(\u001b[49m\n\u001b[1;32m    487\u001b[0m \u001b[43m        \u001b[49m\u001b[43mmethod\u001b[49m\u001b[38;5;241;43m=\u001b[39;49m\u001b[43mrequest\u001b[49m\u001b[38;5;241;43m.\u001b[39;49m\u001b[43mmethod\u001b[49m\u001b[43m,\u001b[49m\n\u001b[1;32m    488\u001b[0m \u001b[43m        \u001b[49m\u001b[43murl\u001b[49m\u001b[38;5;241;43m=\u001b[39;49m\u001b[43murl\u001b[49m\u001b[43m,\u001b[49m\n\u001b[1;32m    489\u001b[0m \u001b[43m        \u001b[49m\u001b[43mbody\u001b[49m\u001b[38;5;241;43m=\u001b[39;49m\u001b[43mrequest\u001b[49m\u001b[38;5;241;43m.\u001b[39;49m\u001b[43mbody\u001b[49m\u001b[43m,\u001b[49m\n\u001b[1;32m    490\u001b[0m \u001b[43m        \u001b[49m\u001b[43mheaders\u001b[49m\u001b[38;5;241;43m=\u001b[39;49m\u001b[43mrequest\u001b[49m\u001b[38;5;241;43m.\u001b[39;49m\u001b[43mheaders\u001b[49m\u001b[43m,\u001b[49m\n\u001b[1;32m    491\u001b[0m \u001b[43m        \u001b[49m\u001b[43mredirect\u001b[49m\u001b[38;5;241;43m=\u001b[39;49m\u001b[38;5;28;43;01mFalse\u001b[39;49;00m\u001b[43m,\u001b[49m\n\u001b[1;32m    492\u001b[0m \u001b[43m        \u001b[49m\u001b[43massert_same_host\u001b[49m\u001b[38;5;241;43m=\u001b[39;49m\u001b[38;5;28;43;01mFalse\u001b[39;49;00m\u001b[43m,\u001b[49m\n\u001b[1;32m    493\u001b[0m \u001b[43m        \u001b[49m\u001b[43mpreload_content\u001b[49m\u001b[38;5;241;43m=\u001b[39;49m\u001b[38;5;28;43;01mFalse\u001b[39;49;00m\u001b[43m,\u001b[49m\n\u001b[1;32m    494\u001b[0m \u001b[43m        \u001b[49m\u001b[43mdecode_content\u001b[49m\u001b[38;5;241;43m=\u001b[39;49m\u001b[38;5;28;43;01mFalse\u001b[39;49;00m\u001b[43m,\u001b[49m\n\u001b[1;32m    495\u001b[0m \u001b[43m        \u001b[49m\u001b[43mretries\u001b[49m\u001b[38;5;241;43m=\u001b[39;49m\u001b[38;5;28;43mself\u001b[39;49m\u001b[38;5;241;43m.\u001b[39;49m\u001b[43mmax_retries\u001b[49m\u001b[43m,\u001b[49m\n\u001b[1;32m    496\u001b[0m \u001b[43m        \u001b[49m\u001b[43mtimeout\u001b[49m\u001b[38;5;241;43m=\u001b[39;49m\u001b[43mtimeout\u001b[49m\u001b[43m,\u001b[49m\n\u001b[1;32m    497\u001b[0m \u001b[43m        \u001b[49m\u001b[43mchunked\u001b[49m\u001b[38;5;241;43m=\u001b[39;49m\u001b[43mchunked\u001b[49m\u001b[43m,\u001b[49m\n\u001b[1;32m    498\u001b[0m \u001b[43m    \u001b[49m\u001b[43m)\u001b[49m\n\u001b[1;32m    500\u001b[0m \u001b[38;5;28;01mexcept\u001b[39;00m (ProtocolError, \u001b[38;5;167;01mOSError\u001b[39;00m) \u001b[38;5;28;01mas\u001b[39;00m err:\n\u001b[1;32m    501\u001b[0m     \u001b[38;5;28;01mraise\u001b[39;00m \u001b[38;5;167;01mConnectionError\u001b[39;00m(err, request\u001b[38;5;241m=\u001b[39mrequest)\n",
      "File \u001b[0;32m/opt/anaconda3/envs/cpsc330/lib/python3.10/site-packages/urllib3/connectionpool.py:789\u001b[0m, in \u001b[0;36mHTTPConnectionPool.urlopen\u001b[0;34m(self, method, url, body, headers, retries, redirect, assert_same_host, timeout, pool_timeout, release_conn, chunked, body_pos, preload_content, decode_content, **response_kw)\u001b[0m\n\u001b[1;32m    786\u001b[0m response_conn \u001b[38;5;241m=\u001b[39m conn \u001b[38;5;28;01mif\u001b[39;00m \u001b[38;5;129;01mnot\u001b[39;00m release_conn \u001b[38;5;28;01melse\u001b[39;00m \u001b[38;5;28;01mNone\u001b[39;00m\n\u001b[1;32m    788\u001b[0m \u001b[38;5;66;03m# Make the request on the HTTPConnection object\u001b[39;00m\n\u001b[0;32m--> 789\u001b[0m response \u001b[38;5;241m=\u001b[39m \u001b[38;5;28;43mself\u001b[39;49m\u001b[38;5;241;43m.\u001b[39;49m\u001b[43m_make_request\u001b[49m\u001b[43m(\u001b[49m\n\u001b[1;32m    790\u001b[0m \u001b[43m    \u001b[49m\u001b[43mconn\u001b[49m\u001b[43m,\u001b[49m\n\u001b[1;32m    791\u001b[0m \u001b[43m    \u001b[49m\u001b[43mmethod\u001b[49m\u001b[43m,\u001b[49m\n\u001b[1;32m    792\u001b[0m \u001b[43m    \u001b[49m\u001b[43murl\u001b[49m\u001b[43m,\u001b[49m\n\u001b[1;32m    793\u001b[0m \u001b[43m    \u001b[49m\u001b[43mtimeout\u001b[49m\u001b[38;5;241;43m=\u001b[39;49m\u001b[43mtimeout_obj\u001b[49m\u001b[43m,\u001b[49m\n\u001b[1;32m    794\u001b[0m \u001b[43m    \u001b[49m\u001b[43mbody\u001b[49m\u001b[38;5;241;43m=\u001b[39;49m\u001b[43mbody\u001b[49m\u001b[43m,\u001b[49m\n\u001b[1;32m    795\u001b[0m \u001b[43m    \u001b[49m\u001b[43mheaders\u001b[49m\u001b[38;5;241;43m=\u001b[39;49m\u001b[43mheaders\u001b[49m\u001b[43m,\u001b[49m\n\u001b[1;32m    796\u001b[0m \u001b[43m    \u001b[49m\u001b[43mchunked\u001b[49m\u001b[38;5;241;43m=\u001b[39;49m\u001b[43mchunked\u001b[49m\u001b[43m,\u001b[49m\n\u001b[1;32m    797\u001b[0m \u001b[43m    \u001b[49m\u001b[43mretries\u001b[49m\u001b[38;5;241;43m=\u001b[39;49m\u001b[43mretries\u001b[49m\u001b[43m,\u001b[49m\n\u001b[1;32m    798\u001b[0m \u001b[43m    \u001b[49m\u001b[43mresponse_conn\u001b[49m\u001b[38;5;241;43m=\u001b[39;49m\u001b[43mresponse_conn\u001b[49m\u001b[43m,\u001b[49m\n\u001b[1;32m    799\u001b[0m \u001b[43m    \u001b[49m\u001b[43mpreload_content\u001b[49m\u001b[38;5;241;43m=\u001b[39;49m\u001b[43mpreload_content\u001b[49m\u001b[43m,\u001b[49m\n\u001b[1;32m    800\u001b[0m \u001b[43m    \u001b[49m\u001b[43mdecode_content\u001b[49m\u001b[38;5;241;43m=\u001b[39;49m\u001b[43mdecode_content\u001b[49m\u001b[43m,\u001b[49m\n\u001b[1;32m    801\u001b[0m \u001b[43m    \u001b[49m\u001b[38;5;241;43m*\u001b[39;49m\u001b[38;5;241;43m*\u001b[39;49m\u001b[43mresponse_kw\u001b[49m\u001b[43m,\u001b[49m\n\u001b[1;32m    802\u001b[0m \u001b[43m\u001b[49m\u001b[43m)\u001b[49m\n\u001b[1;32m    804\u001b[0m \u001b[38;5;66;03m# Everything went great!\u001b[39;00m\n\u001b[1;32m    805\u001b[0m clean_exit \u001b[38;5;241m=\u001b[39m \u001b[38;5;28;01mTrue\u001b[39;00m\n",
      "File \u001b[0;32m/opt/anaconda3/envs/cpsc330/lib/python3.10/site-packages/urllib3/connectionpool.py:536\u001b[0m, in \u001b[0;36mHTTPConnectionPool._make_request\u001b[0;34m(self, conn, method, url, body, headers, retries, timeout, chunked, response_conn, preload_content, decode_content, enforce_content_length)\u001b[0m\n\u001b[1;32m    534\u001b[0m \u001b[38;5;66;03m# Receive the response from the server\u001b[39;00m\n\u001b[1;32m    535\u001b[0m \u001b[38;5;28;01mtry\u001b[39;00m:\n\u001b[0;32m--> 536\u001b[0m     response \u001b[38;5;241m=\u001b[39m \u001b[43mconn\u001b[49m\u001b[38;5;241;43m.\u001b[39;49m\u001b[43mgetresponse\u001b[49m\u001b[43m(\u001b[49m\u001b[43m)\u001b[49m\n\u001b[1;32m    537\u001b[0m \u001b[38;5;28;01mexcept\u001b[39;00m (BaseSSLError, \u001b[38;5;167;01mOSError\u001b[39;00m) \u001b[38;5;28;01mas\u001b[39;00m e:\n\u001b[1;32m    538\u001b[0m     \u001b[38;5;28mself\u001b[39m\u001b[38;5;241m.\u001b[39m_raise_timeout(err\u001b[38;5;241m=\u001b[39me, url\u001b[38;5;241m=\u001b[39murl, timeout_value\u001b[38;5;241m=\u001b[39mread_timeout)\n",
      "File \u001b[0;32m/opt/anaconda3/envs/cpsc330/lib/python3.10/site-packages/urllib3/connection.py:507\u001b[0m, in \u001b[0;36mHTTPConnection.getresponse\u001b[0;34m(self)\u001b[0m\n\u001b[1;32m    504\u001b[0m \u001b[38;5;28;01mfrom\u001b[39;00m \u001b[38;5;21;01m.\u001b[39;00m\u001b[38;5;21;01mresponse\u001b[39;00m \u001b[38;5;28;01mimport\u001b[39;00m HTTPResponse\n\u001b[1;32m    506\u001b[0m \u001b[38;5;66;03m# Get the response from http.client.HTTPConnection\u001b[39;00m\n\u001b[0;32m--> 507\u001b[0m httplib_response \u001b[38;5;241m=\u001b[39m \u001b[38;5;28;43msuper\u001b[39;49m\u001b[43m(\u001b[49m\u001b[43m)\u001b[49m\u001b[38;5;241;43m.\u001b[39;49m\u001b[43mgetresponse\u001b[49m\u001b[43m(\u001b[49m\u001b[43m)\u001b[49m\n\u001b[1;32m    509\u001b[0m \u001b[38;5;28;01mtry\u001b[39;00m:\n\u001b[1;32m    510\u001b[0m     assert_header_parsing(httplib_response\u001b[38;5;241m.\u001b[39mmsg)\n",
      "File \u001b[0;32m/opt/anaconda3/envs/cpsc330/lib/python3.10/http/client.py:1368\u001b[0m, in \u001b[0;36mHTTPConnection.getresponse\u001b[0;34m(self)\u001b[0m\n\u001b[1;32m   1366\u001b[0m \u001b[38;5;28;01mtry\u001b[39;00m:\n\u001b[1;32m   1367\u001b[0m     \u001b[38;5;28;01mtry\u001b[39;00m:\n\u001b[0;32m-> 1368\u001b[0m         \u001b[43mresponse\u001b[49m\u001b[38;5;241;43m.\u001b[39;49m\u001b[43mbegin\u001b[49m\u001b[43m(\u001b[49m\u001b[43m)\u001b[49m\n\u001b[1;32m   1369\u001b[0m     \u001b[38;5;28;01mexcept\u001b[39;00m \u001b[38;5;167;01mConnectionError\u001b[39;00m:\n\u001b[1;32m   1370\u001b[0m         \u001b[38;5;28mself\u001b[39m\u001b[38;5;241m.\u001b[39mclose()\n",
      "File \u001b[0;32m/opt/anaconda3/envs/cpsc330/lib/python3.10/http/client.py:317\u001b[0m, in \u001b[0;36mHTTPResponse.begin\u001b[0;34m(self)\u001b[0m\n\u001b[1;32m    315\u001b[0m \u001b[38;5;66;03m# read until we get a non-100 response\u001b[39;00m\n\u001b[1;32m    316\u001b[0m \u001b[38;5;28;01mwhile\u001b[39;00m \u001b[38;5;28;01mTrue\u001b[39;00m:\n\u001b[0;32m--> 317\u001b[0m     version, status, reason \u001b[38;5;241m=\u001b[39m \u001b[38;5;28;43mself\u001b[39;49m\u001b[38;5;241;43m.\u001b[39;49m\u001b[43m_read_status\u001b[49m\u001b[43m(\u001b[49m\u001b[43m)\u001b[49m\n\u001b[1;32m    318\u001b[0m     \u001b[38;5;28;01mif\u001b[39;00m status \u001b[38;5;241m!=\u001b[39m CONTINUE:\n\u001b[1;32m    319\u001b[0m         \u001b[38;5;28;01mbreak\u001b[39;00m\n",
      "File \u001b[0;32m/opt/anaconda3/envs/cpsc330/lib/python3.10/http/client.py:278\u001b[0m, in \u001b[0;36mHTTPResponse._read_status\u001b[0;34m(self)\u001b[0m\n\u001b[1;32m    277\u001b[0m \u001b[38;5;28;01mdef\u001b[39;00m \u001b[38;5;21m_read_status\u001b[39m(\u001b[38;5;28mself\u001b[39m):\n\u001b[0;32m--> 278\u001b[0m     line \u001b[38;5;241m=\u001b[39m \u001b[38;5;28mstr\u001b[39m(\u001b[38;5;28;43mself\u001b[39;49m\u001b[38;5;241;43m.\u001b[39;49m\u001b[43mfp\u001b[49m\u001b[38;5;241;43m.\u001b[39;49m\u001b[43mreadline\u001b[49m\u001b[43m(\u001b[49m\u001b[43m_MAXLINE\u001b[49m\u001b[43m \u001b[49m\u001b[38;5;241;43m+\u001b[39;49m\u001b[43m \u001b[49m\u001b[38;5;241;43m1\u001b[39;49m\u001b[43m)\u001b[49m, \u001b[38;5;124m\"\u001b[39m\u001b[38;5;124miso-8859-1\u001b[39m\u001b[38;5;124m\"\u001b[39m)\n\u001b[1;32m    279\u001b[0m     \u001b[38;5;28;01mif\u001b[39;00m \u001b[38;5;28mlen\u001b[39m(line) \u001b[38;5;241m>\u001b[39m _MAXLINE:\n\u001b[1;32m    280\u001b[0m         \u001b[38;5;28;01mraise\u001b[39;00m LineTooLong(\u001b[38;5;124m\"\u001b[39m\u001b[38;5;124mstatus line\u001b[39m\u001b[38;5;124m\"\u001b[39m)\n",
      "File \u001b[0;32m/opt/anaconda3/envs/cpsc330/lib/python3.10/socket.py:705\u001b[0m, in \u001b[0;36mSocketIO.readinto\u001b[0;34m(self, b)\u001b[0m\n\u001b[1;32m    703\u001b[0m \u001b[38;5;28;01mwhile\u001b[39;00m \u001b[38;5;28;01mTrue\u001b[39;00m:\n\u001b[1;32m    704\u001b[0m     \u001b[38;5;28;01mtry\u001b[39;00m:\n\u001b[0;32m--> 705\u001b[0m         \u001b[38;5;28;01mreturn\u001b[39;00m \u001b[38;5;28;43mself\u001b[39;49m\u001b[38;5;241;43m.\u001b[39;49m\u001b[43m_sock\u001b[49m\u001b[38;5;241;43m.\u001b[39;49m\u001b[43mrecv_into\u001b[49m\u001b[43m(\u001b[49m\u001b[43mb\u001b[49m\u001b[43m)\u001b[49m\n\u001b[1;32m    706\u001b[0m     \u001b[38;5;28;01mexcept\u001b[39;00m timeout:\n\u001b[1;32m    707\u001b[0m         \u001b[38;5;28mself\u001b[39m\u001b[38;5;241m.\u001b[39m_timeout_occurred \u001b[38;5;241m=\u001b[39m \u001b[38;5;28;01mTrue\u001b[39;00m\n",
      "File \u001b[0;32m/opt/anaconda3/envs/cpsc330/lib/python3.10/ssl.py:1273\u001b[0m, in \u001b[0;36mSSLSocket.recv_into\u001b[0;34m(self, buffer, nbytes, flags)\u001b[0m\n\u001b[1;32m   1269\u001b[0m     \u001b[38;5;28;01mif\u001b[39;00m flags \u001b[38;5;241m!=\u001b[39m \u001b[38;5;241m0\u001b[39m:\n\u001b[1;32m   1270\u001b[0m         \u001b[38;5;28;01mraise\u001b[39;00m \u001b[38;5;167;01mValueError\u001b[39;00m(\n\u001b[1;32m   1271\u001b[0m           \u001b[38;5;124m\"\u001b[39m\u001b[38;5;124mnon-zero flags not allowed in calls to recv_into() on \u001b[39m\u001b[38;5;132;01m%s\u001b[39;00m\u001b[38;5;124m\"\u001b[39m \u001b[38;5;241m%\u001b[39m\n\u001b[1;32m   1272\u001b[0m           \u001b[38;5;28mself\u001b[39m\u001b[38;5;241m.\u001b[39m\u001b[38;5;18m__class__\u001b[39m)\n\u001b[0;32m-> 1273\u001b[0m     \u001b[38;5;28;01mreturn\u001b[39;00m \u001b[38;5;28;43mself\u001b[39;49m\u001b[38;5;241;43m.\u001b[39;49m\u001b[43mread\u001b[49m\u001b[43m(\u001b[49m\u001b[43mnbytes\u001b[49m\u001b[43m,\u001b[49m\u001b[43m \u001b[49m\u001b[43mbuffer\u001b[49m\u001b[43m)\u001b[49m\n\u001b[1;32m   1274\u001b[0m \u001b[38;5;28;01melse\u001b[39;00m:\n\u001b[1;32m   1275\u001b[0m     \u001b[38;5;28;01mreturn\u001b[39;00m \u001b[38;5;28msuper\u001b[39m()\u001b[38;5;241m.\u001b[39mrecv_into(buffer, nbytes, flags)\n",
      "File \u001b[0;32m/opt/anaconda3/envs/cpsc330/lib/python3.10/ssl.py:1129\u001b[0m, in \u001b[0;36mSSLSocket.read\u001b[0;34m(self, len, buffer)\u001b[0m\n\u001b[1;32m   1127\u001b[0m \u001b[38;5;28;01mtry\u001b[39;00m:\n\u001b[1;32m   1128\u001b[0m     \u001b[38;5;28;01mif\u001b[39;00m buffer \u001b[38;5;129;01mis\u001b[39;00m \u001b[38;5;129;01mnot\u001b[39;00m \u001b[38;5;28;01mNone\u001b[39;00m:\n\u001b[0;32m-> 1129\u001b[0m         \u001b[38;5;28;01mreturn\u001b[39;00m \u001b[38;5;28;43mself\u001b[39;49m\u001b[38;5;241;43m.\u001b[39;49m\u001b[43m_sslobj\u001b[49m\u001b[38;5;241;43m.\u001b[39;49m\u001b[43mread\u001b[49m\u001b[43m(\u001b[49m\u001b[38;5;28;43mlen\u001b[39;49m\u001b[43m,\u001b[49m\u001b[43m \u001b[49m\u001b[43mbuffer\u001b[49m\u001b[43m)\u001b[49m\n\u001b[1;32m   1130\u001b[0m     \u001b[38;5;28;01melse\u001b[39;00m:\n\u001b[1;32m   1131\u001b[0m         \u001b[38;5;28;01mreturn\u001b[39;00m \u001b[38;5;28mself\u001b[39m\u001b[38;5;241m.\u001b[39m_sslobj\u001b[38;5;241m.\u001b[39mread(\u001b[38;5;28mlen\u001b[39m)\n",
      "\u001b[0;31mKeyboardInterrupt\u001b[0m: "
     ]
    }
   ],
   "source": [
    "%%time\n",
    "# generate csv files of pitching stats\n",
    "pitching_stats_to_csv(dfs)"
   ]
  },
  {
   "cell_type": "code",
   "execution_count": 9,
   "metadata": {},
   "outputs": [
    {
     "name": "stderr",
     "output_type": "stream",
     "text": [
      "/var/folders/4f/yqk707nn61d0n9l9qmlg7f4w0000gn/T/ipykernel_16691/3243832989.py:50: DeprecationWarning: DataFrameGroupBy.apply operated on the grouping columns. This behavior is deprecated, and in a future version of pandas the grouping columns will be excluded from the operation. Either pass `include_groups=False` to exclude the groupings or explicitly select the grouping columns after groupby to silence this warning.\n",
      "  data = df.groupby('game_pk',sort=False).apply(lambda group: pd.Series({\n",
      "/var/folders/4f/yqk707nn61d0n9l9qmlg7f4w0000gn/T/ipykernel_16691/3243832989.py:63: DeprecationWarning: DataFrameGroupBy.apply operated on the grouping columns. This behavior is deprecated, and in a future version of pandas the grouping columns will be excluded from the operation. Either pass `include_groups=False` to exclude the groupings or explicitly select the grouping columns after groupby to silence this warning.\n",
      "  away_batters = df.groupby('game_pk',sort=False).apply(get_away_batting_order)\n",
      "/var/folders/4f/yqk707nn61d0n9l9qmlg7f4w0000gn/T/ipykernel_16691/3243832989.py:64: DeprecationWarning: DataFrameGroupBy.apply operated on the grouping columns. This behavior is deprecated, and in a future version of pandas the grouping columns will be excluded from the operation. Either pass `include_groups=False` to exclude the groupings or explicitly select the grouping columns after groupby to silence this warning.\n",
      "  home_batters = df.groupby('game_pk',sort=False).apply(get_home_batting_order)\n"
     ]
    }
   ],
   "source": [
    "# generate 2014 pitching data first to check \n",
    "for key, value in dfs.items():\n",
    "    data = get_pitching_stats(value)\n",
    "    data.to_csv(f'data_2014_to_2024/{key}_pitching_stats.csv')\n",
    "    break"
   ]
  },
  {
   "cell_type": "code",
   "execution_count": null,
   "metadata": {},
   "outputs": [],
   "source": []
  }
 ],
 "metadata": {
  "kernelspec": {
   "display_name": "cpsc330",
   "language": "python",
   "name": "python3"
  },
  "language_info": {
   "codemirror_mode": {
    "name": "ipython",
    "version": 3
   },
   "file_extension": ".py",
   "mimetype": "text/x-python",
   "name": "python",
   "nbconvert_exporter": "python",
   "pygments_lexer": "ipython3",
   "version": "3.10.0"
  }
 },
 "nbformat": 4,
 "nbformat_minor": 2
}
